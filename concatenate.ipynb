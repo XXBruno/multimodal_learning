{
 "cells": [
  {
   "cell_type": "code",
   "execution_count": 1,
   "metadata": {},
   "outputs": [],
   "source": [
    "import numpy as np\n",
    "\n",
    "def concatenate(vector1, vector2):\n",
    "    a = np.array(vector1)\n",
    "    b = np.array(vector2)\n",
    "    return np.concatenate((a, b))"
   ]
  },
  {
   "cell_type": "code",
   "execution_count": 4,
   "metadata": {},
   "outputs": [],
   "source": [
    "import pandas as pd\n",
    "\n",
    "\n",
    "def concat_ser_dic(series1, series2):\n",
    "    if isinstance(series1, dict):\n",
    "        series1 = pd.Series(series1)\n",
    "    if isinstance(series2, dict):\n",
    "        series1 = pd.Series(series2)\n",
    "    concatenate_series = pd.Series()\n",
    "    for i in series1.index:\n",
    "        concatenate_series[i] = concatenate(series1[i], series2[i])\n",
    "    return concatenate_series\n",
    "\n",
    "## doc2vec+word2vec ##\n",
    "def doc2vec_word2vec():\n",
    "    return concat_ser_dic(pd.read_pickle(\"./doc2vec\"), pd.read_pickle(\"./word2vec\"))\n",
    "\n",
    "def doc2vec_inception():\n",
    "    return concat_ser_dic(pd.read_pickle(\"./doc2vec\"), pd.read_pickle(\"./inception\"))\n",
    "    \n",
    "def word2vec_inception():\n",
    "    return concat_ser_dic(pd.read_pickle(\"./word2vec\"), pd.read_pickle(\"./inception\"))\n",
    "\n",
    "def doc2vec_word2vec_inception():\n",
    "    tmp = concat_ser_dic(pd.read_pickle(\"./doc2vec\"), pd.read_pickle(\"./word2vec\"))\n",
    "    return concat_ser_dic(tmp, pd.read_pickle(\"./inception\"))\n",
    "\n"
   ]
  },
  {
   "cell_type": "code",
   "execution_count": null,
   "metadata": {},
   "outputs": [],
   "source": []
  }
 ],
 "metadata": {
  "kernelspec": {
   "display_name": "Python 3",
   "language": "python",
   "name": "python3"
  },
  "language_info": {
   "codemirror_mode": {
    "name": "ipython",
    "version": 3
   },
   "file_extension": ".py",
   "mimetype": "text/x-python",
   "name": "python",
   "nbconvert_exporter": "python",
   "pygments_lexer": "ipython3",
   "version": "3.6.5"
  }
 },
 "nbformat": 4,
 "nbformat_minor": 2
}
