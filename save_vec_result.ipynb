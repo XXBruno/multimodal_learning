{
 "cells": [
  {
   "cell_type": "code",
   "execution_count": 1,
   "metadata": {},
   "outputs": [],
   "source": [
    "def save_vec_result(series, outname):\n",
    "    output = open(outname, \"w\")\n",
    "    for word in series.index:\n",
    "        output.write(word + \":\" + str(series[word]) + \", \")\n",
    "    return outname\n",
    "    "
   ]
  },
  {
   "cell_type": "code",
   "execution_count": null,
   "metadata": {},
   "outputs": [
    {
     "name": "stderr",
     "output_type": "stream",
     "text": [
      "c:\\users\\misko\\miniconda3\\lib\\site-packages\\gensim\\utils.py:1197: UserWarning: detected Windows; aliasing chunkize to chunkize_serial\n",
      "  warnings.warn(\"detected Windows; aliasing chunkize to chunkize_serial\")\n",
      "2018-05-25 15:11:42,997 : INFO : loading projection weights from data/GoogleNews-vectors-negative300.bin\n",
      "2018-05-25 15:11:45,879 : INFO : loaded (200000, 300) matrix from data/GoogleNews-vectors-negative300.bin\n"
     ]
    }
   ],
   "source": [
    "import doc2vec_wrapped\n",
    "import word2vec_wrapped\n",
    "import pandas as pd\n",
    "import inception_for_each_file\n",
    "\n",
    "save_vec_result(doc2vec_wrapped.vectorize_content(vector_len=400), \"doc2vec\")\n",
    "print(\"doc2vec done\")\n",
    "save_vec_result(word2vec_wrapped.vectorize_content(), \"word2vec\")\n",
    "print(\"word2vec done\")\n",
    "save_vec_result(for_each_file(\"./data/Pascal_VOC_images\"), \"inception\")\n",
    "print(\"inception done\")"
   ]
  },
  {
   "cell_type": "code",
   "execution_count": null,
   "metadata": {},
   "outputs": [],
   "source": []
  },
  {
   "cell_type": "code",
   "execution_count": null,
   "metadata": {},
   "outputs": [],
   "source": []
  }
 ],
 "metadata": {
  "kernelspec": {
   "display_name": "Python 3",
   "language": "python",
   "name": "python3"
  },
  "language_info": {
   "codemirror_mode": {
    "name": "ipython",
    "version": 3
   },
   "file_extension": ".py",
   "mimetype": "text/x-python",
   "name": "python",
   "nbconvert_exporter": "python",
   "pygments_lexer": "ipython3",
   "version": "3.6.5"
  }
 },
 "nbformat": 4,
 "nbformat_minor": 2
}
