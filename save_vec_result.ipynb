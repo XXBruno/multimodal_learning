{
 "cells": [
  {
   "cell_type": "code",
   "execution_count": 1,
   "metadata": {},
   "outputs": [],
   "source": [
    "# Do not use !\n",
    "def save_vec_result(series, outname):\n",
    "    output = open(outname, \"w\")\n",
    "    for word in series.index:\n",
    "        output.write(word + \":\" + str(series[word]) + \", \")\n",
    "    return outname\n",
    "    "
   ]
  },
  {
   "cell_type": "code",
   "execution_count": null,
   "metadata": {},
   "outputs": [],
   "source": [
    "import doc2vec_wrapped\n",
    "import word2vec_wrapped\n",
    "import pandas as pd\n",
    "import inception_for_each_file\n",
    "\n",
    "def run_to_pickle():\n",
    "    doc2vec_wrapped.vectorize_content(vector_len=400).to_pickle(\"./doc2vec\")\n",
    "    print(\"doc2vec done\")\n",
    "    word2vec_wrapped.vectorize_content().to_pickle(\"./word2vec\")\n",
    "    print(\"word2vec done\")\n",
    "    for_each_file(\"./data/Pascal_VOC_images\").to_pickle(\"./inception\")\n",
    "    print(\"inception done\")\n",
    "    return"
   ]
  },
  {
   "cell_type": "code",
   "execution_count": null,
   "metadata": {},
   "outputs": [],
   "source": [
    "run_to_pickle()"
   ]
  },
  {
   "cell_type": "code",
   "execution_count": null,
   "metadata": {},
   "outputs": [],
   "source": []
  }
 ],
 "metadata": {
  "kernelspec": {
   "display_name": "Python 3",
   "language": "python",
   "name": "python3"
  },
  "language_info": {
   "codemirror_mode": {
    "name": "ipython",
    "version": 3
   },
   "file_extension": ".py",
   "mimetype": "text/x-python",
   "name": "python",
   "nbconvert_exporter": "python",
   "pygments_lexer": "ipython3",
   "version": "3.6.5"
  }
 },
 "nbformat": 4,
 "nbformat_minor": 2
}
