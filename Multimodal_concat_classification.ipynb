{
 "cells": [
  {
   "cell_type": "code",
   "execution_count": 1,
   "metadata": {
    "collapsed": true
   },
   "outputs": [],
   "source": [
    "import logging\n",
    "logging.basicConfig(format='%(asctime)s : %(levelname)s : %(message)s', level=logging.INFO)"
   ]
  },
  {
   "cell_type": "code",
   "execution_count": 2,
   "metadata": {
    "collapsed": false
   },
   "outputs": [
    {
     "name": "stderr",
     "output_type": "stream",
     "text": [
      "2018-05-26 03:47:13,859 : INFO : 'pattern' package not found; tag filters are not available for English\n",
      "2018-05-26 03:47:14,061 : INFO : loading projection weights from data/GoogleNews-vectors-negative300.bin\n",
      "2018-05-26 03:47:16,962 : INFO : loaded (200000, 300) matrix from data/GoogleNews-vectors-negative300.bin\n"
     ]
    },
    {
     "name": "stdout",
     "output_type": "stream",
     "text": [
      "[0.024817426, 0.047339398, 0.05504293, 0.1429576, -0.0057987543, -0.1005939, -0.041599441, -0.059137095, 0.061385091, 0.099511191, 0.050306238, -0.10807568, -0.020107104, 0.034922723, -0.1008407, -0.061510168, -0.02739815, 0.09334863, -0.040620886, -0.082178533, -0.049308445, 0.045009445, -0.069215193, -0.054931972, 0.059007064, -0.04941592, -0.15911467, 0.084576152, 0.043920103, -0.11972377, 0.017994756, 0.0057419487, -0.03337827, -0.018433943, -0.00606371, -0.095447041, 0.019502059, 0.037096769, 0.0015099567, 0.035957169, 0.033999898, -0.087679654, 0.12570323, -0.10852847, -0.025842708, -0.022490792, -0.091989271, -0.041329093, 0.00376295, 0.012858183, 0.020275613, 0.059517238, 0.036636021, 0.01862899, -0.018277375, 0.0012681381, -0.02990192, -0.019478176, 0.015790856, -0.081480607, -0.0610471, -0.0052437158, -0.061398052, -0.14104429, -0.034361135, 0.0040077539, -0.037374746, 0.059704989, -0.044180829, 0.062390868, 0.029310143, -0.019711183, 0.016934602, -0.06302543, -0.097811326, -0.059545103, 0.054885201, -0.039496381, -0.0022689155, 0.043802012, 0.026635211, -0.060489155, 0.03926219, -0.029140804, -0.020260355, -0.090703547, -0.068705685, -0.0213225, 0.016882109, 0.039792269, -0.033408787, 0.024483059, -0.024246423, -0.063203231, -0.082668141, -0.034039043, 0.092795663, -0.05126157, 0.036002368, -0.047105871, 0.016689716, -0.057240363, 0.11624079, 0.053785242, 0.059526525, -0.00063705444, -0.027037911, -0.059095301, 0.052945677, -0.12080947, -0.087348603, 0.0016612178, -0.0043135933, -0.027824236, -0.029780513, -0.027341096, 0.082179859, -0.025726153, -0.038576871, 0.083772078, -0.093464397, -0.0022490129, -0.067032523, 0.034184664, 0.051062543, -0.028823148, -0.032907899, -0.04706474, 0.02075013, 0.079523169, -0.069946289, -0.060936969, -0.0065687429, -0.070132047, 0.025858341, 0.0060358462, 0.0077090054, -0.089203708, -0.011184029, 0.048475184, 0.03531282, -0.029581485, 0.10446466, 0.028772769, 0.034670621, 0.022603657, 0.0043693213, -0.1704964, -0.042659927, -0.0016028363, 0.068112582, 0.034515381, -0.013445315, -0.014988111, -0.068452254, -0.0081050703, -0.031565458, -0.10243291, -0.039892446, 0.03602799, -0.11738653, 0.0341704, 0.065481432, -0.015959367, 0.028666621, -0.071910031, 0.030455217, -0.054078475, 0.021820068, -0.029465385, -0.18730761, -0.003031855, 0.020460045, -0.033431012, -0.034489509, -0.049710482, 0.011131411, -0.034768809, 0.010252579, 0.01723049, -0.1057381, -0.10610498, -0.043496504, -0.013224727, -0.057225768, -0.034249347, 0.061089888, -0.0038783862, 0.086807914, 0.12157673, 0.071846507, 0.035163548, -0.020454738, 0.02717126, -0.037953418, 0.11889516, -0.026039787, 0.012335072, -0.044407059, -0.079783566, 0.048605215, 0.095841117, -0.048735246, -0.14834727, -0.0095643578, -0.012229256, 0.032400381, -0.01343301, -0.02574224, 0.036752451, -0.069387019, -0.070248812, -0.074206807, 0.037496153, -0.11432681, 0.00180883, 0.05094976, -0.0058978535, -0.10727824, 0.012530783, 0.023251077, -0.063436426, 0.042878523, -0.069289498, 0.083513342, -0.045471523, 0.038469397, 0.053105563, 0.019502059, -0.016368866, -0.014215221, -0.053933848, 0.0087198177, 0.090862773, 0.00036587921, 0.0019226074, 0.027041228, -0.010504681, 0.15851758, 0.016706716, 0.023907205, -0.021764724, -0.070219621, -0.071163677, -0.017531022, 0.016671222, 0.04913836, 0.023470672, -0.042936243, -0.048643611, -0.0042067817, 0.014071257, 0.026554273, 0.091246232, 0.044427622, -0.1004977, -0.00031363446, 0.036247253, -0.058231521, -0.0048695439, -0.027644614, -0.032250445, 0.022851031, -0.013417949, 0.078841254, 0.1348386, -0.010919985, 0.036192521, -0.033614449, 0.012241529, 0.018211033, 0.083805248, 0.08032757, -0.0010853643, 0.013575015, -0.025659645, -0.026584791, -0.079514548, -0.056487374, -0.013437686, 0.052843176, -0.01440894, 0.05720238, 0.11133343, 0.00034299103, -0.015351669, -0.11884341, 0.050282355, -0.0092985732, -0.030751104, -0.043612272, 0.024823396, -0.11971913, 0.026865421, 0.023531044, 0.046285879, -0.005397216, -0.0081674326, 0.082940146, -0.067507535]\n"
     ]
    }
   ],
   "source": [
    "import word2vec_wrapped\n",
    "word2vec_vectors_series = word2vec_wrapped.vectorize_content()\n",
    "print(word2vec_vectors_series[\"000000154087.jpg\"])"
   ]
  },
  {
   "cell_type": "code",
   "execution_count": 3,
   "metadata": {
    "collapsed": false
   },
   "outputs": [
    {
     "name": "stderr",
     "output_type": "stream",
     "text": [
      "2018-05-26 03:47:17,703 : INFO : collecting all words and their counts\n",
      "2018-05-26 03:47:17,704 : INFO : PROGRESS: at example #0, processed 0 words (0/s), 0 word types, 0 tags\n",
      "2018-05-26 03:47:17,734 : INFO : collected 3702 word types and 10 unique tags from a corpus of 1503 examples and 65463 words\n",
      "2018-05-26 03:47:17,738 : INFO : Loading a fresh vocabulary\n",
      "2018-05-26 03:47:17,862 : INFO : min_count=5 retains 1058 unique words (28% of original 3702, drops 2644)\n",
      "2018-05-26 03:47:17,862 : INFO : min_count=5 leaves 61217 word corpus (93% of original 65463, drops 4246)\n",
      "2018-05-26 03:47:17,866 : INFO : deleting the raw counts dictionary of 3702 items\n",
      "2018-05-26 03:47:17,868 : INFO : sample=0.001 downsamples 71 most-common words\n",
      "2018-05-26 03:47:17,868 : INFO : downsampling leaves estimated 39737 word corpus (64.9% of prior 61217)\n",
      "2018-05-26 03:47:17,871 : INFO : estimated required memory for 1058 words and 400 dimensions: 3932600 bytes\n",
      "2018-05-26 03:47:17,872 : INFO : resetting layer weights\n",
      "2018-05-26 03:47:17,910 : INFO : training model with 1 workers on 1058 vocabulary and 400 features, using sg=1 hs=0 sample=0.001 negative=12 window=8\n",
      "2018-05-26 03:47:18,117 : INFO : worker thread finished; awaiting finish of 0 more threads\n",
      "2018-05-26 03:47:18,118 : INFO : EPOCH - 1 : training on 65463 raw words (41232 effective words) took 0.2s, 210056 effective words/s\n",
      "2018-05-26 03:47:18,330 : INFO : worker thread finished; awaiting finish of 0 more threads\n",
      "2018-05-26 03:47:18,330 : INFO : EPOCH - 2 : training on 65463 raw words (41111 effective words) took 0.2s, 195664 effective words/s\n",
      "2018-05-26 03:47:18,529 : INFO : worker thread finished; awaiting finish of 0 more threads\n",
      "2018-05-26 03:47:18,530 : INFO : EPOCH - 3 : training on 65463 raw words (41258 effective words) took 0.2s, 209987 effective words/s\n",
      "2018-05-26 03:47:18,739 : INFO : worker thread finished; awaiting finish of 0 more threads\n",
      "2018-05-26 03:47:18,740 : INFO : EPOCH - 4 : training on 65463 raw words (41138 effective words) took 0.2s, 198800 effective words/s\n",
      "2018-05-26 03:47:18,940 : INFO : worker thread finished; awaiting finish of 0 more threads\n",
      "2018-05-26 03:47:18,941 : INFO : EPOCH - 5 : training on 65463 raw words (41386 effective words) took 0.2s, 209337 effective words/s\n",
      "2018-05-26 03:47:19,117 : INFO : worker thread finished; awaiting finish of 0 more threads\n",
      "2018-05-26 03:47:19,118 : INFO : EPOCH - 6 : training on 65463 raw words (41225 effective words) took 0.2s, 238232 effective words/s\n",
      "2018-05-26 03:47:19,316 : INFO : worker thread finished; awaiting finish of 0 more threads\n",
      "2018-05-26 03:47:19,317 : INFO : EPOCH - 7 : training on 65463 raw words (41396 effective words) took 0.2s, 211154 effective words/s\n",
      "2018-05-26 03:47:19,514 : INFO : worker thread finished; awaiting finish of 0 more threads\n",
      "2018-05-26 03:47:19,515 : INFO : EPOCH - 8 : training on 65463 raw words (41267 effective words) took 0.2s, 211666 effective words/s\n",
      "2018-05-26 03:47:19,708 : INFO : worker thread finished; awaiting finish of 0 more threads\n",
      "2018-05-26 03:47:19,709 : INFO : EPOCH - 9 : training on 65463 raw words (41227 effective words) took 0.2s, 214996 effective words/s\n",
      "2018-05-26 03:47:19,904 : INFO : worker thread finished; awaiting finish of 0 more threads\n",
      "2018-05-26 03:47:19,905 : INFO : EPOCH - 10 : training on 65463 raw words (41149 effective words) took 0.2s, 213090 effective words/s\n",
      "2018-05-26 03:47:19,905 : INFO : training on a 654630 raw words (412389 effective words) took 2.0s, 206917 effective words/s\n"
     ]
    },
    {
     "name": "stdout",
     "output_type": "stream",
     "text": [
      "[-0.18384847 -0.28276327  0.27871498 -0.05728625  0.12446619 -0.01325843\n",
      "  0.09391882  0.04031036 -0.27118278 -0.04665984 -0.07525011 -0.06178871\n",
      "  0.06956403  0.00920027  0.03421111  0.10838493 -0.08083018  0.0699283\n",
      " -0.18467455 -0.10335777  0.01854532 -0.06474293  0.02407034 -0.02397658\n",
      "  0.18512303  0.06704867  0.09216513 -0.09012938 -0.11837269  0.14279246\n",
      " -0.22730055 -0.14794263 -0.07017726  0.14658682  0.02819937 -0.14820114\n",
      "  0.19981048 -0.1676776  -0.12678887 -0.25432175 -0.05774974  0.15369967\n",
      " -0.03048322  0.14564539 -0.28325152  0.02490766 -0.03413814  0.19800591\n",
      " -0.05237208  0.0261161   0.14427988 -0.03142252 -0.05951107 -0.02514699\n",
      "  0.06727625  0.08511104  0.20432359 -0.03644859 -0.04575475 -0.01439462\n",
      " -0.07799566 -0.25412431 -0.06999219 -0.08476177  0.02343809 -0.0963672\n",
      "  0.17916727 -0.00138451  0.04110837  0.09798727 -0.18468514 -0.13054618\n",
      "  0.12181718  0.23079231 -0.01447727 -0.0702344   0.07641211  0.10499492\n",
      " -0.14648934  0.21869753 -0.01350609 -0.06669431 -0.0595624  -0.13782553\n",
      " -0.1842462  -0.09001032  0.19144213  0.113547   -0.05856491 -0.02984518\n",
      " -0.07456564 -0.00782279  0.07110338  0.14720485  0.0274002   0.16768752\n",
      "  0.03472911 -0.09774209 -0.18567428  0.04940762  0.17924576 -0.06189102\n",
      "  0.08615151 -0.16967508  0.09785398  0.04335104 -0.14001647  0.03446553\n",
      "  0.03073311  0.19378522  0.00740591 -0.1144934   0.13459566 -0.03151427\n",
      " -0.18005711 -0.13460135 -0.0211282   0.04442152 -0.12712865 -0.01909794\n",
      " -0.12822956  0.11462808 -0.08396316  0.29441282  0.09951644 -0.01592312\n",
      " -0.09847246  0.00064936  0.13176142 -0.16107127 -0.03244944 -0.22337708\n",
      "  0.17469849  0.33364388 -0.06881035 -0.12957071 -0.08729407 -0.00506061\n",
      " -0.19956343 -0.06565512 -0.17972101  0.14798033  0.0113191   0.31224611\n",
      "  0.20748778 -0.1528748   0.01604917  0.29100868  0.01210981  0.09858423\n",
      "  0.12196846 -0.02332955  0.07451785  0.15262292 -0.1509486   0.00855854\n",
      "  0.14390928  0.05992037 -0.14516041  0.01421436  0.19002043 -0.16133805\n",
      "  0.13305314  0.03785883  0.19586702 -0.0884039   0.0081226  -0.11797387\n",
      "  0.04257867 -0.10082263 -0.14664231  0.08880165  0.20799688 -0.05263698\n",
      "  0.06732252 -0.18603055 -0.0091119  -0.08445993 -0.01931854  0.02767734\n",
      "  0.11852426  0.0021653  -0.15280998 -0.04883609 -0.13629265 -0.03027871\n",
      "  0.06614772  0.00102247  0.14332853  0.04495386 -0.06035065 -0.1125724\n",
      "  0.1059325   0.17284057  0.01742226  0.0853392  -0.1074548   0.05075097\n",
      "  0.04256453  0.05247163  0.1554534  -0.11723045 -0.02887344  0.10796235\n",
      " -0.12633644 -0.00294776 -0.08429852  0.06865366 -0.01589471  0.2251409\n",
      " -0.00412266 -0.09796815  0.23222673  0.12045334  0.10236676 -0.04365627\n",
      " -0.20246759 -0.10546588 -0.01861431 -0.06005294 -0.13267313  0.07616857\n",
      "  0.00785996 -0.28254065  0.0518741  -0.17764291 -0.10714934 -0.08526088\n",
      " -0.16767803 -0.03363182  0.23988459  0.03264769  0.2004693   0.15706939\n",
      "  0.0647692  -0.08341736  0.03112143 -0.0118284   0.01338485 -0.01654831\n",
      " -0.04690389 -0.09993482  0.21851861  0.21957524  0.05996439  0.03023206\n",
      "  0.03928659 -0.17183554 -0.17282711  0.20917356 -0.0572256   0.0645662\n",
      "  0.11615022  0.27905595  0.04769563  0.08497695  0.19487867  0.00467475\n",
      " -0.05551812 -0.01414555 -0.12063899  0.13332519 -0.13492227 -0.09175391\n",
      " -0.07367689 -0.01329701  0.08629649 -0.04636842 -0.22859979  0.03744075\n",
      "  0.03931455  0.19144121  0.1391345  -0.28632516  0.07980463 -0.217795\n",
      " -0.19930305  0.15981977  0.07598267  0.06009096  0.12822039 -0.05909832\n",
      "  0.18496816  0.14891139  0.04643232 -0.06249563 -0.02011211 -0.1902775\n",
      " -0.13197277  0.10779828  0.06669721  0.05323962  0.11003626 -0.06431334\n",
      " -0.05523732 -0.11338653  0.13294978 -0.15597288  0.13401383 -0.07391829\n",
      "  0.09762277  0.00792999  0.04778008  0.05542893 -0.13168266  0.17718609\n",
      " -0.19592094 -0.01576678  0.18989857 -0.0312275   0.05449097  0.23933437\n",
      " -0.11116488 -0.08375097  0.15522584  0.01008859  0.34391969 -0.1514989\n",
      " -0.19041093  0.22379035  0.05377918 -0.13336277  0.12100209  0.04716748\n",
      " -0.25929901  0.01416635 -0.04010062  0.08901218 -0.00532638 -0.23210227\n",
      "  0.19422819  0.2411714  -0.08538174  0.03578851 -0.12790725  0.16126399\n",
      "  0.17444788  0.16680555  0.07653502 -0.10064854  0.06068498  0.14559464\n",
      "  0.2028867   0.09494873  0.20908582 -0.06693246  0.05250368 -0.19966413\n",
      "  0.13135211 -0.10061052 -0.13595334 -0.20042729 -0.07032027 -0.21253209\n",
      "  0.19708413  0.09726011  0.03766711  0.08175223 -0.0274314   0.11043186\n",
      " -0.19655868 -0.09768815  0.04896447  0.19485335  0.12117589  0.01027947\n",
      "  0.06788296  0.30167234 -0.02807095 -0.08277618  0.08710273 -0.06150647\n",
      "  0.07649157 -0.0126516  -0.10936764  0.18872277  0.04104668 -0.19369563\n",
      "  0.02018747 -0.08033296  0.07077564 -0.09456465  0.04963503  0.01665107\n",
      "  0.03983511 -0.16873765  0.01847027 -0.26489684  0.04366856  0.07498478\n",
      "  0.21663775  0.02431579  0.25479138 -0.12829633  0.01103379 -0.23126195\n",
      "  0.10269313  0.01250527 -0.05982131 -0.04882473]\n"
     ]
    }
   ],
   "source": [
    "import doc2vec_wrapped\n",
    "doc2vec_vectors_series = doc2vec_wrapped.vectorize_content()\n",
    "print(doc2vec_vectors_series[\"000000154087.jpg\"])"
   ]
  },
  {
   "cell_type": "code",
   "execution_count": 4,
   "metadata": {
    "collapsed": true
   },
   "outputs": [],
   "source": [
    "import pandas as pd"
   ]
  },
  {
   "cell_type": "code",
   "execution_count": 5,
   "metadata": {
    "collapsed": false
   },
   "outputs": [
    {
     "data": {
      "text/html": [
       "<div>\n",
       "<style scoped>\n",
       "    .dataframe tbody tr th:only-of-type {\n",
       "        vertical-align: middle;\n",
       "    }\n",
       "\n",
       "    .dataframe tbody tr th {\n",
       "        vertical-align: top;\n",
       "    }\n",
       "\n",
       "    .dataframe thead th {\n",
       "        text-align: right;\n",
       "    }\n",
       "</style>\n",
       "<table border=\"1\" class=\"dataframe\">\n",
       "  <thead>\n",
       "    <tr style=\"text-align: right;\">\n",
       "      <th></th>\n",
       "      <th>vector</th>\n",
       "    </tr>\n",
       "    <tr>\n",
       "      <th>image</th>\n",
       "      <th></th>\n",
       "    </tr>\n",
       "  </thead>\n",
       "  <tbody>\n",
       "    <tr>\n",
       "      <th>000000173830.jpg</th>\n",
       "      <td>[0.27057743072509705, 0.11477771401405301, 0.0...</td>\n",
       "    </tr>\n",
       "    <tr>\n",
       "      <th>000000570664.jpg</th>\n",
       "      <td>[0.252127289772033, 0.434070438146591, 0.22712...</td>\n",
       "    </tr>\n",
       "    <tr>\n",
       "      <th>000000304396.jpg</th>\n",
       "      <td>[0.24179434776306102, 0.08653920888900701, 0.1...</td>\n",
       "    </tr>\n",
       "    <tr>\n",
       "      <th>000000441491.jpg</th>\n",
       "      <td>[0.11056154966354301, 0.08768206834793, 0.0857...</td>\n",
       "    </tr>\n",
       "    <tr>\n",
       "      <th>000000289059.jpg</th>\n",
       "      <td>[0.23210205137729603, 0.1578049659729, 0.27599...</td>\n",
       "    </tr>\n",
       "  </tbody>\n",
       "</table>\n",
       "</div>"
      ],
      "text/plain": [
       "                                                             vector\n",
       "image                                                              \n",
       "000000173830.jpg  [0.27057743072509705, 0.11477771401405301, 0.0...\n",
       "000000570664.jpg  [0.252127289772033, 0.434070438146591, 0.22712...\n",
       "000000304396.jpg  [0.24179434776306102, 0.08653920888900701, 0.1...\n",
       "000000441491.jpg  [0.11056154966354301, 0.08768206834793, 0.0857...\n",
       "000000289059.jpg  [0.23210205137729603, 0.1578049659729, 0.27599..."
      ]
     },
     "execution_count": 5,
     "metadata": {},
     "output_type": "execute_result"
    }
   ],
   "source": [
    "inception_df = pd.read_json(\"data/inception_output.txt\", lines=True)\n",
    "inception_df.set_index('image',inplace=True)\n",
    "inception_df[:5]"
   ]
  },
  {
   "cell_type": "code",
   "execution_count": 6,
   "metadata": {
    "collapsed": false
   },
   "outputs": [
    {
     "data": {
      "text/html": [
       "<div>\n",
       "<style scoped>\n",
       "    .dataframe tbody tr th:only-of-type {\n",
       "        vertical-align: middle;\n",
       "    }\n",
       "\n",
       "    .dataframe tbody tr th {\n",
       "        vertical-align: top;\n",
       "    }\n",
       "\n",
       "    .dataframe thead th {\n",
       "        text-align: right;\n",
       "    }\n",
       "</style>\n",
       "<table border=\"1\" class=\"dataframe\">\n",
       "  <thead>\n",
       "    <tr style=\"text-align: right;\">\n",
       "      <th></th>\n",
       "      <th>file_name</th>\n",
       "      <th>category</th>\n",
       "    </tr>\n",
       "  </thead>\n",
       "  <tbody>\n",
       "    <tr>\n",
       "      <th>0</th>\n",
       "      <td>000000004795.jpg</td>\n",
       "      <td>cat</td>\n",
       "    </tr>\n",
       "    <tr>\n",
       "      <th>1</th>\n",
       "      <td>000000134689.jpg</td>\n",
       "      <td>giraffe</td>\n",
       "    </tr>\n",
       "    <tr>\n",
       "      <th>2</th>\n",
       "      <td>000000223182.jpg</td>\n",
       "      <td>tennis racket</td>\n",
       "    </tr>\n",
       "    <tr>\n",
       "      <th>3</th>\n",
       "      <td>000000079031.jpg</td>\n",
       "      <td>surfboard</td>\n",
       "    </tr>\n",
       "    <tr>\n",
       "      <th>4</th>\n",
       "      <td>000000229849.jpg</td>\n",
       "      <td>tennis racket</td>\n",
       "    </tr>\n",
       "  </tbody>\n",
       "</table>\n",
       "</div>"
      ],
      "text/plain": [
       "          file_name       category\n",
       "0  000000004795.jpg            cat\n",
       "1  000000134689.jpg        giraffe\n",
       "2  000000223182.jpg  tennis racket\n",
       "3  000000079031.jpg      surfboard\n",
       "4  000000229849.jpg  tennis racket"
      ]
     },
     "execution_count": 6,
     "metadata": {},
     "output_type": "execute_result"
    }
   ],
   "source": [
    "df = pd.read_json(\"data/COCO/coco-easier.txt\", lines=True)\n",
    "df = df[['file_name', 'category']]\n",
    "df = df.sample(frac=1).reset_index(drop=True)\n",
    "\n",
    "df[:5]"
   ]
  },
  {
   "cell_type": "code",
   "execution_count": 7,
   "metadata": {
    "collapsed": true
   },
   "outputs": [],
   "source": [
    "import numpy as np\n",
    "\n",
    "def concatenate(vector1, vector2):\n",
    "    a = np.array(vector1)\n",
    "    b = np.array(vector2)\n",
    "    return np.concatenate((a, b))"
   ]
  },
  {
   "cell_type": "code",
   "execution_count": 8,
   "metadata": {
    "collapsed": false
   },
   "outputs": [
    {
     "data": {
      "text/html": [
       "<div>\n",
       "<style scoped>\n",
       "    .dataframe tbody tr th:only-of-type {\n",
       "        vertical-align: middle;\n",
       "    }\n",
       "\n",
       "    .dataframe tbody tr th {\n",
       "        vertical-align: top;\n",
       "    }\n",
       "\n",
       "    .dataframe thead th {\n",
       "        text-align: right;\n",
       "    }\n",
       "</style>\n",
       "<table border=\"1\" class=\"dataframe\">\n",
       "  <thead>\n",
       "    <tr style=\"text-align: right;\">\n",
       "      <th></th>\n",
       "      <th>file_name</th>\n",
       "      <th>category</th>\n",
       "      <th>concat_vectors</th>\n",
       "    </tr>\n",
       "  </thead>\n",
       "  <tbody>\n",
       "    <tr>\n",
       "      <th>0</th>\n",
       "      <td>000000004795.jpg</td>\n",
       "      <td>cat</td>\n",
       "      <td>[-0.228172570467, -0.189700290561, -0.11359666...</td>\n",
       "    </tr>\n",
       "    <tr>\n",
       "      <th>1</th>\n",
       "      <td>000000134689.jpg</td>\n",
       "      <td>giraffe</td>\n",
       "      <td>[-0.282051444054, -0.133536294103, 0.067337654...</td>\n",
       "    </tr>\n",
       "    <tr>\n",
       "      <th>2</th>\n",
       "      <td>000000223182.jpg</td>\n",
       "      <td>tennis racket</td>\n",
       "      <td>[-0.02697198838, -0.175502464175, -0.001196065...</td>\n",
       "    </tr>\n",
       "    <tr>\n",
       "      <th>3</th>\n",
       "      <td>000000079031.jpg</td>\n",
       "      <td>surfboard</td>\n",
       "      <td>[-0.0494223125279, -0.00446367170662, 0.141683...</td>\n",
       "    </tr>\n",
       "    <tr>\n",
       "      <th>4</th>\n",
       "      <td>000000229849.jpg</td>\n",
       "      <td>tennis racket</td>\n",
       "      <td>[-0.0613672882318, -0.289837270975, 0.04768301...</td>\n",
       "    </tr>\n",
       "  </tbody>\n",
       "</table>\n",
       "</div>"
      ],
      "text/plain": [
       "          file_name       category  \\\n",
       "0  000000004795.jpg            cat   \n",
       "1  000000134689.jpg        giraffe   \n",
       "2  000000223182.jpg  tennis racket   \n",
       "3  000000079031.jpg      surfboard   \n",
       "4  000000229849.jpg  tennis racket   \n",
       "\n",
       "                                      concat_vectors  \n",
       "0  [-0.228172570467, -0.189700290561, -0.11359666...  \n",
       "1  [-0.282051444054, -0.133536294103, 0.067337654...  \n",
       "2  [-0.02697198838, -0.175502464175, -0.001196065...  \n",
       "3  [-0.0494223125279, -0.00446367170662, 0.141683...  \n",
       "4  [-0.0613672882318, -0.289837270975, 0.04768301...  "
      ]
     },
     "execution_count": 8,
     "metadata": {},
     "output_type": "execute_result"
    }
   ],
   "source": [
    "#df[\"concat_vectors\"] = df.apply(lambda row: concatenate(doc2vec_vectors_series[row['file_name']], \n",
    "#                                                        word2vec_vectors_series[row['file_name']]), axis=1)\n",
    "df[\"concat_vectors\"] = df.apply(lambda row: concatenate(doc2vec_vectors_series[row['file_name']],\n",
    "                                                       inception_df['vector'][row['file_name']]), axis=1)\n",
    "df[:5]"
   ]
  },
  {
   "cell_type": "code",
   "execution_count": 9,
   "metadata": {
    "collapsed": true
   },
   "outputs": [],
   "source": [
    "from sklearn.model_selection import cross_val_score"
   ]
  },
  {
   "cell_type": "code",
   "execution_count": 10,
   "metadata": {
    "collapsed": true
   },
   "outputs": [],
   "source": [
    "from sklearn.linear_model import LogisticRegression\n",
    "classifier = LogisticRegression()"
   ]
  },
  {
   "cell_type": "code",
   "execution_count": 11,
   "metadata": {
    "collapsed": false
   },
   "outputs": [
    {
     "name": "stdout",
     "output_type": "stream",
     "text": [
      "Accuracy: 0.93 (+/- 0.01)\n"
     ]
    }
   ],
   "source": [
    "# Returns the mean accuracy on the given test data and labels, in 5 cross validation splits\n",
    "scores = cross_val_score(classifier, \n",
    "                         pd.DataFrame(df[\"concat_vectors\"].tolist()), \n",
    "                         df[\"category\"].values, \n",
    "                         cv=5)\n",
    "print(\"Accuracy: %0.2f (+/- %0.2f)\" % (scores.mean(), scores.std() * 2))"
   ]
  },
  {
   "cell_type": "code",
   "execution_count": 12,
   "metadata": {
    "collapsed": true
   },
   "outputs": [],
   "source": [
    "from sklearn.svm import LinearSVC\n",
    "classifier = LinearSVC()"
   ]
  },
  {
   "cell_type": "code",
   "execution_count": 13,
   "metadata": {
    "collapsed": false
   },
   "outputs": [
    {
     "name": "stdout",
     "output_type": "stream",
     "text": [
      "Accuracy: 0.93 (+/- 0.02)\n"
     ]
    }
   ],
   "source": [
    "# Returns the mean accuracy on the given test data and labels, in 5 cross validation splits\n",
    "scores = cross_val_score(classifier, \n",
    "                         pd.DataFrame(df[\"concat_vectors\"].tolist()), \n",
    "                         df[\"category\"].values, \n",
    "                         cv=5)\n",
    "print(\"Accuracy: %0.2f (+/- %0.2f)\" % (scores.mean(), scores.std() * 2))"
   ]
  },
  {
   "cell_type": "code",
   "execution_count": 14,
   "metadata": {
    "collapsed": true
   },
   "outputs": [],
   "source": [
    "import numpy as np\n",
    "\n",
    "def concatenate(vector1, vector2):\n",
    "    a = np.array(vector1)\n",
    "    b = np.array(vector2)\n",
    "    return np.concatenate((a, b))"
   ]
  }
 ],
 "metadata": {
  "kernelspec": {
   "display_name": "Python 3",
   "language": "python",
   "name": "python3"
  },
  "language_info": {
   "codemirror_mode": {
    "name": "ipython",
    "version": 3
   },
   "file_extension": ".py",
   "mimetype": "text/x-python",
   "name": "python",
   "nbconvert_exporter": "python",
   "pygments_lexer": "ipython3",
   "version": "3.5.4"
  }
 },
 "nbformat": 4,
 "nbformat_minor": 2
}
