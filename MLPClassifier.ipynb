{
 "cells": [
  {
   "cell_type": "code",
   "execution_count": 1,
   "metadata": {
    "scrolled": true
   },
   "outputs": [
    {
     "name": "stderr",
     "output_type": "stream",
     "text": [
      "c:\\users\\misko\\miniconda3\\lib\\site-packages\\gensim\\utils.py:1197: UserWarning: detected Windows; aliasing chunkize to chunkize_serial\n",
      "  warnings.warn(\"detected Windows; aliasing chunkize to chunkize_serial\")\n",
      "2018-05-26 23:38:02,730 : INFO : loading projection weights from data/GoogleNews-vectors-negative300.bin\n",
      "2018-05-26 23:38:05,414 : INFO : loaded (200000, 300) matrix from data/GoogleNews-vectors-negative300.bin\n"
     ]
    }
   ],
   "source": [
    "import word2vec_wrapped\n",
    "import doc2vec_wrapped\n",
    "import pandas as pd\n",
    "from sklearn.metrics import accuracy_score\n",
    "import numpy as np"
   ]
  },
  {
   "cell_type": "code",
   "execution_count": 2,
   "metadata": {},
   "outputs": [
    {
     "data": {
      "text/html": [
       "<div>\n",
       "<style scoped>\n",
       "    .dataframe tbody tr th:only-of-type {\n",
       "        vertical-align: middle;\n",
       "    }\n",
       "\n",
       "    .dataframe tbody tr th {\n",
       "        vertical-align: top;\n",
       "    }\n",
       "\n",
       "    .dataframe thead th {\n",
       "        text-align: right;\n",
       "    }\n",
       "</style>\n",
       "<table border=\"1\" class=\"dataframe\">\n",
       "  <thead>\n",
       "    <tr style=\"text-align: right;\">\n",
       "      <th></th>\n",
       "      <th>vector</th>\n",
       "    </tr>\n",
       "    <tr>\n",
       "      <th>image</th>\n",
       "      <th></th>\n",
       "    </tr>\n",
       "  </thead>\n",
       "  <tbody>\n",
       "    <tr>\n",
       "      <th>000000173830.jpg</th>\n",
       "      <td>[0.27057743072509705, 0.11477771401405301, 0.0...</td>\n",
       "    </tr>\n",
       "    <tr>\n",
       "      <th>000000570664.jpg</th>\n",
       "      <td>[0.252127289772033, 0.434070438146591, 0.22712...</td>\n",
       "    </tr>\n",
       "    <tr>\n",
       "      <th>000000304396.jpg</th>\n",
       "      <td>[0.24179434776306102, 0.08653920888900701, 0.1...</td>\n",
       "    </tr>\n",
       "    <tr>\n",
       "      <th>000000441491.jpg</th>\n",
       "      <td>[0.11056154966354301, 0.08768206834793, 0.0857...</td>\n",
       "    </tr>\n",
       "    <tr>\n",
       "      <th>000000289059.jpg</th>\n",
       "      <td>[0.23210205137729603, 0.1578049659729, 0.27599...</td>\n",
       "    </tr>\n",
       "  </tbody>\n",
       "</table>\n",
       "</div>"
      ],
      "text/plain": [
       "                                                             vector\n",
       "image                                                              \n",
       "000000173830.jpg  [0.27057743072509705, 0.11477771401405301, 0.0...\n",
       "000000570664.jpg  [0.252127289772033, 0.434070438146591, 0.22712...\n",
       "000000304396.jpg  [0.24179434776306102, 0.08653920888900701, 0.1...\n",
       "000000441491.jpg  [0.11056154966354301, 0.08768206834793, 0.0857...\n",
       "000000289059.jpg  [0.23210205137729603, 0.1578049659729, 0.27599..."
      ]
     },
     "execution_count": 2,
     "metadata": {},
     "output_type": "execute_result"
    }
   ],
   "source": [
    "inception_df = pd.read_json(\"data/inception_output.txt\", lines=True)\n",
    "inception_df.set_index('image',inplace=True)\n",
    "inception_df[:5]"
   ]
  },
  {
   "cell_type": "code",
   "execution_count": 3,
   "metadata": {},
   "outputs": [],
   "source": [
    "def concatenate(vector1, vector2, vector3 = 0):\n",
    "    a = np.array(vector1)\n",
    "    b = np.array(vector2)\n",
    "    if (vector3 == 0):\n",
    "        return np.concatenate((a, b))\n",
    "    c = np.array(vector3)\n",
    "    return np.concatenate((np.concatenate((a, b)), c))"
   ]
  },
  {
   "cell_type": "code",
   "execution_count": 4,
   "metadata": {},
   "outputs": [],
   "source": [
    "def m_accuracy(df, clf):\n",
    "    true = df[\"category\"].tolist()\n",
    "    predicted = []\n",
    "    for id in df[\"img_id\"]:\n",
    "        predicted.append(clf.predict(df.loc[df['img_id'] == id].concat_vectors.tolist())[0])\n",
    "    score = accuracy_score(true, predicted)\n",
    "    return score"
   ]
  },
  {
   "cell_type": "markdown",
   "metadata": {},
   "source": [
    "# doc2vec_inception_class"
   ]
  },
  {
   "cell_type": "code",
   "execution_count": null,
   "metadata": {},
   "outputs": [],
   "source": []
  },
  {
   "cell_type": "code",
   "execution_count": 5,
   "metadata": {},
   "outputs": [],
   "source": [
    "def doc2vec_inception_class():\n",
    "    df = pd.read_json(\"data/COCO/coco-easier.txt\", \n",
    "                  lines=True)\n",
    "    df = df.sample(frac=1).reset_index(drop=True)\n",
    "    doc2vec_vectors_series = doc2vec_wrapped.vectorize_content()\n",
    "    df[\"concat_vectors\"] = df.apply(lambda row: concatenate(doc2vec_vectors_series[row['file_name']],\n",
    "                                                           inception_df['vector'][row['file_name']]), axis=1)\n",
    "    df[:5]\n",
    "\n",
    "    from sklearn.neural_network import MLPClassifier\n",
    "    X = df[\"concat_vectors\"].tolist()\n",
    "    y = df[\"category\"].tolist()\n",
    "    clf = MLPClassifier(solver='lbfgs', alpha=1e-5,\n",
    "                        hidden_layer_sizes=(5, 4), random_state=1)\n",
    "    clf.fit(X, y)                         \n",
    "    MLPClassifier(activation='relu', alpha=1e-05, batch_size='auto',\n",
    "           beta_1=0.9, beta_2=0.999, early_stopping=False,\n",
    "           epsilon=1e-08, hidden_layer_sizes=(5, 2), learning_rate='constant',\n",
    "           learning_rate_init=0.001, max_iter=200, momentum=0.9,\n",
    "           nesterovs_momentum=True, power_t=0.5, random_state=1, shuffle=True,\n",
    "           solver='lbfgs', tol=0.0001, validation_fraction=0.1, verbose=False,\n",
    "           warm_start=False)\n",
    "    \n",
    "    print(\"doc2vec_inception accuracy: %0.2f\" % (m_accuracy(df, clf)))"
   ]
  },
  {
   "cell_type": "markdown",
   "metadata": {},
   "source": [
    "# word2vec_inception_class"
   ]
  },
  {
   "cell_type": "code",
   "execution_count": 6,
   "metadata": {},
   "outputs": [],
   "source": [
    "def word2vec_inception_class():\n",
    "    df = pd.read_json(\"data/COCO/coco-easier.txt\", \n",
    "                  lines=True)\n",
    "    df = df.sample(frac=1).reset_index(drop=True)\n",
    "    word2vec_vectors_series = word2vec_wrapped.vectorize_content()\n",
    "    df[\"concat_vectors\"] = df.apply(lambda row: concatenate(word2vec_vectors_series[row['file_name']],\n",
    "                                                           inception_df['vector'][row['file_name']]), axis=1)\n",
    "    X = df[\"concat_vectors\"]\n",
    "    X\n",
    "\n",
    "    from sklearn.neural_network import MLPClassifier\n",
    "    X = df[\"concat_vectors\"].tolist()\n",
    "    y = df[\"category\"].tolist()\n",
    "    clf = MLPClassifier(solver='lbfgs', alpha=1e-5,\n",
    "                        hidden_layer_sizes=(5, 4), random_state=1)\n",
    "    clf.fit(X, y)                         \n",
    "    MLPClassifier(activation='relu', alpha=1e-05, batch_size='auto',\n",
    "           beta_1=0.9, beta_2=0.999, early_stopping=False,\n",
    "           epsilon=1e-08, hidden_layer_sizes=(5, 2), learning_rate='constant',\n",
    "           learning_rate_init=0.001, max_iter=200, momentum=0.9,\n",
    "           nesterovs_momentum=True, power_t=0.5, random_state=1, shuffle=True,\n",
    "           solver='lbfgs', tol=0.0001, validation_fraction=0.1, verbose=False,\n",
    "           warm_start=False)\n",
    "\n",
    "    print(\"word2vec_inception accuracy: %0.2f\" % (m_accuracy(df, clf)))"
   ]
  },
  {
   "cell_type": "markdown",
   "metadata": {},
   "source": [
    "# word2vec_doc2vec_class"
   ]
  },
  {
   "cell_type": "code",
   "execution_count": 7,
   "metadata": {},
   "outputs": [],
   "source": [
    "def word2vec_doc2vec_class():\n",
    "    df = pd.read_json(\"data/COCO/coco-easier.txt\", \n",
    "                  lines=True)\n",
    "    df = df.sample(frac=1).reset_index(drop=True)\n",
    "    word2vec_vectors_series = word2vec_wrapped.vectorize_content()\n",
    "    doc2vec_vectors_series = doc2vec_wrapped.vectorize_content()\n",
    "    df[\"concat_vectors\"] = df.apply(lambda row: concatenate(word2vec_vectors_series[row['file_name']],\n",
    "                                                           doc2vec_vectors_series[row['file_name']]), axis=1)\n",
    "    X = df[\"concat_vectors\"]\n",
    "    X\n",
    "\n",
    "    from sklearn.neural_network import MLPClassifier\n",
    "    X = df[\"concat_vectors\"].tolist()\n",
    "    y = df[\"category\"].tolist()\n",
    "    clf = MLPClassifier(solver='lbfgs', alpha=1e-5,\n",
    "                        hidden_layer_sizes=(5, 4), random_state=1)\n",
    "    clf.fit(X, y)                         \n",
    "    MLPClassifier(activation='relu', alpha=1e-05, batch_size='auto',\n",
    "           beta_1=0.9, beta_2=0.999, early_stopping=False,\n",
    "           epsilon=1e-08, hidden_layer_sizes=(5, 2), learning_rate='constant',\n",
    "           learning_rate_init=0.001, max_iter=200, momentum=0.9,\n",
    "           nesterovs_momentum=True, power_t=0.5, random_state=1, shuffle=True,\n",
    "           solver='lbfgs', tol=0.0001, validation_fraction=0.1, verbose=False,\n",
    "           warm_start=False)\n",
    "\n",
    "    print(\"word2vec_doc2vec accuracy: %0.2f\" % (m_accuracy(df, clf)))"
   ]
  },
  {
   "cell_type": "markdown",
   "metadata": {},
   "source": [
    "# word2vec_doc2vec_inception_class"
   ]
  },
  {
   "cell_type": "code",
   "execution_count": 8,
   "metadata": {},
   "outputs": [],
   "source": [
    "def word2vec_doc2vec_inception_class():\n",
    "    df = pd.read_json(\"data/COCO/coco-easier.txt\", \n",
    "                  lines=True)\n",
    "    df = df.sample(frac=1).reset_index(drop=True)\n",
    "    word2vec_vectors_series = word2vec_wrapped.vectorize_content()\n",
    "    doc2vec_vectors_series = doc2vec_wrapped.vectorize_content()\n",
    "\n",
    "    df[\"concat_vectors\"] = df.apply(lambda row: concatenate(word2vec_vectors_series[row['file_name']],\n",
    "                                                            doc2vec_vectors_series[row['file_name']],\n",
    "                                                            inception_df['vector'][row['file_name']]), axis=1)\n",
    "  \n",
    "    X = df[\"concat_vectors\"]\n",
    "    X\n",
    "\n",
    "    from sklearn.neural_network import MLPClassifier\n",
    "    X = df[\"concat_vectors\"].tolist()\n",
    "    y = df[\"category\"].tolist()\n",
    "    clf = MLPClassifier(solver='lbfgs', alpha=1e-5,\n",
    "                        hidden_layer_sizes=(5, 4), random_state=1)\n",
    "    clf.fit(X, y)                         \n",
    "    MLPClassifier(activation='relu', alpha=1e-05, batch_size='auto',\n",
    "           beta_1=0.9, beta_2=0.999, early_stopping=False,\n",
    "           epsilon=1e-08, hidden_layer_sizes=(5, 2), learning_rate='constant',\n",
    "           learning_rate_init=0.001, max_iter=200, momentum=0.9,\n",
    "           nesterovs_momentum=True, power_t=0.5, random_state=1, shuffle=True,\n",
    "           solver='lbfgs', tol=0.0001, validation_fraction=0.1, verbose=False,\n",
    "           warm_start=False)\n",
    "\n",
    "    print(\"word2vec_doc2vec_inception accuracy: %0.2f\" % (m_accuracy(df, clf)))"
   ]
  },
  {
   "cell_type": "code",
   "execution_count": 9,
   "metadata": {},
   "outputs": [
    {
     "name": "stderr",
     "output_type": "stream",
     "text": [
      "2018-05-26 23:38:07,073 : INFO : collecting all words and their counts\n",
      "2018-05-26 23:38:07,073 : INFO : PROGRESS: at example #0, processed 0 words (0/s), 0 word types, 0 tags\n",
      "2018-05-26 23:38:07,097 : INFO : collected 3702 word types and 10 unique tags from a corpus of 1503 examples and 65463 words\n",
      "2018-05-26 23:38:07,097 : INFO : Loading a fresh vocabulary\n",
      "2018-05-26 23:38:07,101 : INFO : min_count=5 retains 1058 unique words (28% of original 3702, drops 2644)\n",
      "2018-05-26 23:38:07,105 : INFO : min_count=5 leaves 61217 word corpus (93% of original 65463, drops 4246)\n",
      "2018-05-26 23:38:07,109 : INFO : deleting the raw counts dictionary of 3702 items\n",
      "2018-05-26 23:38:07,113 : INFO : sample=0.001 downsamples 71 most-common words\n",
      "2018-05-26 23:38:07,113 : INFO : downsampling leaves estimated 39737 word corpus (64.9% of prior 61217)\n",
      "2018-05-26 23:38:07,117 : INFO : estimated required memory for 1058 words and 400 dimensions: 3932600 bytes\n",
      "2018-05-26 23:38:07,125 : INFO : resetting layer weights\n",
      "2018-05-26 23:38:07,165 : INFO : training model with 1 workers on 1058 vocabulary and 400 features, using sg=1 hs=0 sample=0.001 negative=12 window=8\n",
      "2018-05-26 23:38:07,369 : INFO : worker thread finished; awaiting finish of 0 more threads\n",
      "2018-05-26 23:38:07,369 : INFO : EPOCH - 1 : training on 65463 raw words (41232 effective words) took 0.2s, 204956 effective words/s\n",
      "2018-05-26 23:38:07,573 : INFO : worker thread finished; awaiting finish of 0 more threads\n",
      "2018-05-26 23:38:07,573 : INFO : EPOCH - 2 : training on 65463 raw words (41111 effective words) took 0.2s, 206099 effective words/s\n",
      "2018-05-26 23:38:07,789 : INFO : worker thread finished; awaiting finish of 0 more threads\n",
      "2018-05-26 23:38:07,789 : INFO : EPOCH - 3 : training on 65463 raw words (41258 effective words) took 0.2s, 192844 effective words/s\n",
      "2018-05-26 23:38:08,113 : INFO : worker thread finished; awaiting finish of 0 more threads\n",
      "2018-05-26 23:38:08,113 : INFO : EPOCH - 4 : training on 65463 raw words (41138 effective words) took 0.3s, 129538 effective words/s\n",
      "2018-05-26 23:38:08,349 : INFO : worker thread finished; awaiting finish of 0 more threads\n",
      "2018-05-26 23:38:08,353 : INFO : EPOCH - 5 : training on 65463 raw words (41386 effective words) took 0.2s, 176462 effective words/s\n",
      "2018-05-26 23:38:08,581 : INFO : worker thread finished; awaiting finish of 0 more threads\n",
      "2018-05-26 23:38:08,581 : INFO : EPOCH - 6 : training on 65463 raw words (41225 effective words) took 0.2s, 181464 effective words/s\n",
      "2018-05-26 23:38:08,789 : INFO : worker thread finished; awaiting finish of 0 more threads\n",
      "2018-05-26 23:38:08,789 : INFO : EPOCH - 7 : training on 65463 raw words (41396 effective words) took 0.2s, 206414 effective words/s\n",
      "2018-05-26 23:38:08,989 : INFO : worker thread finished; awaiting finish of 0 more threads\n",
      "2018-05-26 23:38:08,989 : INFO : EPOCH - 8 : training on 65463 raw words (41267 effective words) took 0.2s, 210543 effective words/s\n",
      "2018-05-26 23:38:09,233 : INFO : worker thread finished; awaiting finish of 0 more threads\n",
      "2018-05-26 23:38:09,237 : INFO : EPOCH - 9 : training on 65463 raw words (41227 effective words) took 0.2s, 169476 effective words/s\n",
      "2018-05-26 23:38:09,501 : INFO : worker thread finished; awaiting finish of 0 more threads\n",
      "2018-05-26 23:38:09,505 : INFO : EPOCH - 10 : training on 65463 raw words (41149 effective words) took 0.3s, 157438 effective words/s\n",
      "2018-05-26 23:38:09,505 : INFO : training on a 654630 raw words (412389 effective words) took 2.3s, 176301 effective words/s\n"
     ]
    },
    {
     "name": "stdout",
     "output_type": "stream",
     "text": [
      "doc2vec_inception accuracy: 1.00\n"
     ]
    },
    {
     "name": "stderr",
     "output_type": "stream",
     "text": [
      "2018-05-26 23:38:25,121 : INFO : collecting all words and their counts\n",
      "2018-05-26 23:38:25,121 : INFO : PROGRESS: at example #0, processed 0 words (0/s), 0 word types, 0 tags\n",
      "2018-05-26 23:38:25,145 : INFO : collected 3702 word types and 10 unique tags from a corpus of 1503 examples and 65463 words\n",
      "2018-05-26 23:38:25,145 : INFO : Loading a fresh vocabulary\n",
      "2018-05-26 23:38:25,153 : INFO : min_count=5 retains 1058 unique words (28% of original 3702, drops 2644)\n",
      "2018-05-26 23:38:25,153 : INFO : min_count=5 leaves 61217 word corpus (93% of original 65463, drops 4246)\n",
      "2018-05-26 23:38:25,161 : INFO : deleting the raw counts dictionary of 3702 items\n",
      "2018-05-26 23:38:25,165 : INFO : sample=0.001 downsamples 71 most-common words\n",
      "2018-05-26 23:38:25,165 : INFO : downsampling leaves estimated 39737 word corpus (64.9% of prior 61217)\n",
      "2018-05-26 23:38:25,173 : INFO : estimated required memory for 1058 words and 400 dimensions: 3932600 bytes\n",
      "2018-05-26 23:38:25,181 : INFO : resetting layer weights\n",
      "2018-05-26 23:38:25,209 : INFO : training model with 1 workers on 1058 vocabulary and 400 features, using sg=1 hs=0 sample=0.001 negative=12 window=8\n"
     ]
    },
    {
     "name": "stdout",
     "output_type": "stream",
     "text": [
      "word2vec_inception accuracy: 0.52\n"
     ]
    },
    {
     "name": "stderr",
     "output_type": "stream",
     "text": [
      "2018-05-26 23:38:25,457 : INFO : worker thread finished; awaiting finish of 0 more threads\n",
      "2018-05-26 23:38:25,457 : INFO : EPOCH - 1 : training on 65463 raw words (41232 effective words) took 0.2s, 170014 effective words/s\n",
      "2018-05-26 23:38:25,732 : INFO : worker thread finished; awaiting finish of 0 more threads\n",
      "2018-05-26 23:38:25,732 : INFO : EPOCH - 2 : training on 65463 raw words (41111 effective words) took 0.3s, 150540 effective words/s\n",
      "2018-05-26 23:38:26,068 : INFO : worker thread finished; awaiting finish of 0 more threads\n",
      "2018-05-26 23:38:26,068 : INFO : EPOCH - 3 : training on 65463 raw words (41258 effective words) took 0.3s, 125028 effective words/s\n",
      "2018-05-26 23:38:26,320 : INFO : worker thread finished; awaiting finish of 0 more threads\n",
      "2018-05-26 23:38:26,324 : INFO : EPOCH - 4 : training on 65463 raw words (41138 effective words) took 0.2s, 166721 effective words/s\n",
      "2018-05-26 23:38:26,564 : INFO : worker thread finished; awaiting finish of 0 more threads\n",
      "2018-05-26 23:38:26,564 : INFO : EPOCH - 5 : training on 65463 raw words (41386 effective words) took 0.2s, 174019 effective words/s\n",
      "2018-05-26 23:38:26,788 : INFO : worker thread finished; awaiting finish of 0 more threads\n",
      "2018-05-26 23:38:26,792 : INFO : EPOCH - 6 : training on 65463 raw words (41225 effective words) took 0.2s, 186168 effective words/s\n",
      "2018-05-26 23:38:27,100 : INFO : worker thread finished; awaiting finish of 0 more threads\n",
      "2018-05-26 23:38:27,104 : INFO : EPOCH - 7 : training on 65463 raw words (41396 effective words) took 0.3s, 134513 effective words/s\n",
      "2018-05-26 23:38:27,300 : INFO : worker thread finished; awaiting finish of 0 more threads\n",
      "2018-05-26 23:38:27,300 : INFO : EPOCH - 8 : training on 65463 raw words (41267 effective words) took 0.2s, 212444 effective words/s\n",
      "2018-05-26 23:38:27,508 : INFO : worker thread finished; awaiting finish of 0 more threads\n",
      "2018-05-26 23:38:27,508 : INFO : EPOCH - 9 : training on 65463 raw words (41227 effective words) took 0.2s, 202198 effective words/s\n",
      "2018-05-26 23:38:27,720 : INFO : worker thread finished; awaiting finish of 0 more threads\n",
      "2018-05-26 23:38:27,720 : INFO : EPOCH - 10 : training on 65463 raw words (41149 effective words) took 0.2s, 197844 effective words/s\n",
      "2018-05-26 23:38:27,720 : INFO : training on a 654630 raw words (412389 effective words) took 2.5s, 164341 effective words/s\n",
      "2018-05-26 23:38:34,322 : INFO : collecting all words and their counts\n",
      "2018-05-26 23:38:34,326 : INFO : PROGRESS: at example #0, processed 0 words (0/s), 0 word types, 0 tags\n",
      "2018-05-26 23:38:34,346 : INFO : collected 3702 word types and 10 unique tags from a corpus of 1503 examples and 65463 words\n",
      "2018-05-26 23:38:34,346 : INFO : Loading a fresh vocabulary\n",
      "2018-05-26 23:38:34,354 : INFO : min_count=5 retains 1058 unique words (28% of original 3702, drops 2644)\n",
      "2018-05-26 23:38:34,354 : INFO : min_count=5 leaves 61217 word corpus (93% of original 65463, drops 4246)\n",
      "2018-05-26 23:38:34,362 : INFO : deleting the raw counts dictionary of 3702 items\n",
      "2018-05-26 23:38:34,366 : INFO : sample=0.001 downsamples 71 most-common words\n",
      "2018-05-26 23:38:34,370 : INFO : downsampling leaves estimated 39737 word corpus (64.9% of prior 61217)\n",
      "2018-05-26 23:38:34,374 : INFO : estimated required memory for 1058 words and 400 dimensions: 3932600 bytes\n",
      "2018-05-26 23:38:34,378 : INFO : resetting layer weights\n",
      "2018-05-26 23:38:34,414 : INFO : training model with 1 workers on 1058 vocabulary and 400 features, using sg=1 hs=0 sample=0.001 negative=12 window=8\n"
     ]
    },
    {
     "name": "stdout",
     "output_type": "stream",
     "text": [
      "word2vec_doc2vec accuracy: 0.97\n"
     ]
    },
    {
     "name": "stderr",
     "output_type": "stream",
     "text": [
      "2018-05-26 23:38:34,634 : INFO : worker thread finished; awaiting finish of 0 more threads\n",
      "2018-05-26 23:38:34,634 : INFO : EPOCH - 1 : training on 65463 raw words (41232 effective words) took 0.2s, 189673 effective words/s\n",
      "2018-05-26 23:38:34,894 : INFO : worker thread finished; awaiting finish of 0 more threads\n",
      "2018-05-26 23:38:34,894 : INFO : EPOCH - 2 : training on 65463 raw words (41111 effective words) took 0.3s, 161314 effective words/s\n",
      "2018-05-26 23:38:35,118 : INFO : worker thread finished; awaiting finish of 0 more threads\n",
      "2018-05-26 23:38:35,118 : INFO : EPOCH - 3 : training on 65463 raw words (41258 effective words) took 0.2s, 188458 effective words/s\n",
      "2018-05-26 23:38:35,310 : INFO : worker thread finished; awaiting finish of 0 more threads\n",
      "2018-05-26 23:38:35,314 : INFO : EPOCH - 4 : training on 65463 raw words (41138 effective words) took 0.2s, 215104 effective words/s\n",
      "2018-05-26 23:38:35,570 : INFO : worker thread finished; awaiting finish of 0 more threads\n",
      "2018-05-26 23:38:35,570 : INFO : EPOCH - 5 : training on 65463 raw words (41386 effective words) took 0.3s, 162217 effective words/s\n",
      "2018-05-26 23:38:35,866 : INFO : worker thread finished; awaiting finish of 0 more threads\n",
      "2018-05-26 23:38:35,866 : INFO : EPOCH - 6 : training on 65463 raw words (41225 effective words) took 0.3s, 143035 effective words/s\n",
      "2018-05-26 23:38:36,130 : INFO : worker thread finished; awaiting finish of 0 more threads\n",
      "2018-05-26 23:38:36,134 : INFO : EPOCH - 7 : training on 65463 raw words (41396 effective words) took 0.3s, 157235 effective words/s\n",
      "2018-05-26 23:38:36,402 : INFO : worker thread finished; awaiting finish of 0 more threads\n",
      "2018-05-26 23:38:36,406 : INFO : EPOCH - 8 : training on 65463 raw words (41267 effective words) took 0.3s, 154531 effective words/s\n",
      "2018-05-26 23:38:36,718 : INFO : worker thread finished; awaiting finish of 0 more threads\n",
      "2018-05-26 23:38:36,722 : INFO : EPOCH - 9 : training on 65463 raw words (41227 effective words) took 0.3s, 132213 effective words/s\n",
      "2018-05-26 23:38:36,966 : INFO : worker thread finished; awaiting finish of 0 more threads\n",
      "2018-05-26 23:38:36,966 : INFO : EPOCH - 10 : training on 65463 raw words (41149 effective words) took 0.2s, 173409 effective words/s\n",
      "2018-05-26 23:38:36,966 : INFO : training on a 654630 raw words (412389 effective words) took 2.5s, 161727 effective words/s\n"
     ]
    },
    {
     "name": "stdout",
     "output_type": "stream",
     "text": [
      "word2vec_doc2vec_inception accuracy: 0.13\n"
     ]
    }
   ],
   "source": [
    "doc2vec_inception_class()\n",
    "word2vec_inception_class()\n",
    "word2vec_doc2vec_class()\n",
    "word2vec_doc2vec_inception_class()\n",
    "\n"
   ]
  },
  {
   "cell_type": "code",
   "execution_count": null,
   "metadata": {},
   "outputs": [],
   "source": []
  }
 ],
 "metadata": {
  "kernelspec": {
   "display_name": "Python 3",
   "language": "python",
   "name": "python3"
  },
  "language_info": {
   "codemirror_mode": {
    "name": "ipython",
    "version": 3
   },
   "file_extension": ".py",
   "mimetype": "text/x-python",
   "name": "python",
   "nbconvert_exporter": "python",
   "pygments_lexer": "ipython3",
   "version": "3.6.5"
  }
 },
 "nbformat": 4,
 "nbformat_minor": 2
}
