{
 "cells": [
  {
   "cell_type": "code",
   "execution_count": 1,
   "metadata": {
    "scrolled": true
   },
   "outputs": [
    {
     "name": "stderr",
     "output_type": "stream",
     "text": [
      "2018-05-26 22:43:32,814 : INFO : loading projection weights from data/GoogleNews-vectors-negative300.bin\n",
      "2018-05-26 22:43:36,088 : INFO : loaded (200000, 300) matrix from data/GoogleNews-vectors-negative300.bin\n"
     ]
    }
   ],
   "source": [
    "import word2vec_wrapped\n",
    "import doc2vec_wrapped\n",
    "import pandas as pd\n",
    "from sklearn.metrics import accuracy_score\n",
    "import numpy as np"
   ]
  },
  {
   "cell_type": "code",
   "execution_count": 2,
   "metadata": {},
   "outputs": [
    {
     "data": {
      "text/html": [
       "<div>\n",
       "<style scoped>\n",
       "    .dataframe tbody tr th:only-of-type {\n",
       "        vertical-align: middle;\n",
       "    }\n",
       "\n",
       "    .dataframe tbody tr th {\n",
       "        vertical-align: top;\n",
       "    }\n",
       "\n",
       "    .dataframe thead th {\n",
       "        text-align: right;\n",
       "    }\n",
       "</style>\n",
       "<table border=\"1\" class=\"dataframe\">\n",
       "  <thead>\n",
       "    <tr style=\"text-align: right;\">\n",
       "      <th></th>\n",
       "      <th>vector</th>\n",
       "    </tr>\n",
       "    <tr>\n",
       "      <th>image</th>\n",
       "      <th></th>\n",
       "    </tr>\n",
       "  </thead>\n",
       "  <tbody>\n",
       "    <tr>\n",
       "      <th>000000173830.jpg</th>\n",
       "      <td>[0.27057743072509705, 0.11477771401405301, 0.0...</td>\n",
       "    </tr>\n",
       "    <tr>\n",
       "      <th>000000570664.jpg</th>\n",
       "      <td>[0.252127289772033, 0.434070438146591, 0.22712...</td>\n",
       "    </tr>\n",
       "    <tr>\n",
       "      <th>000000304396.jpg</th>\n",
       "      <td>[0.24179434776306102, 0.08653920888900701, 0.1...</td>\n",
       "    </tr>\n",
       "    <tr>\n",
       "      <th>000000441491.jpg</th>\n",
       "      <td>[0.11056154966354301, 0.08768206834793, 0.0857...</td>\n",
       "    </tr>\n",
       "    <tr>\n",
       "      <th>000000289059.jpg</th>\n",
       "      <td>[0.23210205137729603, 0.1578049659729, 0.27599...</td>\n",
       "    </tr>\n",
       "  </tbody>\n",
       "</table>\n",
       "</div>"
      ],
      "text/plain": [
       "                                                             vector\n",
       "image                                                              \n",
       "000000173830.jpg  [0.27057743072509705, 0.11477771401405301, 0.0...\n",
       "000000570664.jpg  [0.252127289772033, 0.434070438146591, 0.22712...\n",
       "000000304396.jpg  [0.24179434776306102, 0.08653920888900701, 0.1...\n",
       "000000441491.jpg  [0.11056154966354301, 0.08768206834793, 0.0857...\n",
       "000000289059.jpg  [0.23210205137729603, 0.1578049659729, 0.27599..."
      ]
     },
     "execution_count": 2,
     "metadata": {},
     "output_type": "execute_result"
    }
   ],
   "source": [
    "inception_df = pd.read_json(\"data/inception_output.txt\", lines=True)\n",
    "inception_df.set_index('image',inplace=True)\n",
    "inception_df[:5]"
   ]
  },
  {
   "cell_type": "code",
   "execution_count": 3,
   "metadata": {},
   "outputs": [],
   "source": [
    "def concatenate(vector1, vector2, vector3 = False):\n",
    "    a = np.array(vector1)\n",
    "    b = np.array(vector2)\n",
    "    if not vector3:\n",
    "        return np.concatenate((a, b))\n",
    "    \n",
    "    c = np.array(vector3)\n",
    "    return np.concatenate((np.concatenate((a, b)), c))"
   ]
  },
  {
   "cell_type": "code",
   "execution_count": 4,
   "metadata": {},
   "outputs": [],
   "source": [
    "def m_accuracy(df, clf):\n",
    "    true = df[\"category\"].tolist()\n",
    "    predicted = []\n",
    "    for id in df[\"img_id\"]:\n",
    "        predicted.append(clf.predict(df.loc[df['img_id'] == id].concat_vectors.tolist())[0])\n",
    "    score = accuracy_score(true, predicted)\n",
    "    return score"
   ]
  },
  {
   "cell_type": "markdown",
   "metadata": {},
   "source": [
    "# doc2vec_inception_class"
   ]
  },
  {
   "cell_type": "code",
   "execution_count": null,
   "metadata": {},
   "outputs": [],
   "source": []
  },
  {
   "cell_type": "code",
   "execution_count": 5,
   "metadata": {},
   "outputs": [],
   "source": [
    "def doc2vec_inception_class():\n",
    "    df = pd.read_json(\"data/COCO/coco-easier.txt\", \n",
    "                  lines=True)\n",
    "    df = df.sample(frac=1).reset_index(drop=True)\n",
    "    doc2vec_vectors_series = doc2vec_wrapped.vectorize_content()\n",
    "    df[\"concat_vectors\"] = df.apply(lambda row: concatenate(doc2vec_vectors_series[row['file_name']],\n",
    "                                                           inception_df['vector'][row['file_name']]), axis=1)\n",
    "    df[:5]\n",
    "\n",
    "    from sklearn.neural_network import MLPClassifier\n",
    "    X = df[\"concat_vectors\"].tolist()\n",
    "    y = df[\"category\"].tolist()\n",
    "    clf = MLPClassifier(solver='lbfgs', alpha=1e-5,\n",
    "                        hidden_layer_sizes=(5, 2), random_state=1)\n",
    "    clf.fit(X, y)                         \n",
    "    MLPClassifier(activation='relu', alpha=1e-05, batch_size='auto',\n",
    "           beta_1=0.9, beta_2=0.999, early_stopping=False,\n",
    "           epsilon=1e-08, hidden_layer_sizes=(5, 2), learning_rate='constant',\n",
    "           learning_rate_init=0.001, max_iter=200, momentum=0.9,\n",
    "           nesterovs_momentum=True, power_t=0.5, random_state=1, shuffle=True,\n",
    "           solver='lbfgs', tol=0.0001, validation_fraction=0.4, verbose=False,\n",
    "           warm_start=False)\n",
    "    \n",
    "    print(\"doc2vec_inception accuracy: %0.2f\" % (m_accuracy(df, clf)))"
   ]
  },
  {
   "cell_type": "markdown",
   "metadata": {},
   "source": [
    "# word2vec_inception_class"
   ]
  },
  {
   "cell_type": "code",
   "execution_count": 6,
   "metadata": {},
   "outputs": [],
   "source": [
    "def word2vec_inception_class():\n",
    "    df = pd.read_json(\"data/COCO/coco-easier.txt\", \n",
    "                  lines=True)\n",
    "    df = df.sample(frac=1).reset_index(drop=True)\n",
    "    word2vec_vectors_series = word2vec_wrapped.vectorize_content()\n",
    "    df[\"concat_vectors\"] = df.apply(lambda row: concatenate(word2vec_vectors_series[row['file_name']],\n",
    "                                                           inception_df['vector'][row['file_name']]), axis=1)\n",
    "    X = df[\"concat_vectors\"]\n",
    "    X\n",
    "\n",
    "    from sklearn.neural_network import MLPClassifier\n",
    "    X = df[\"concat_vectors\"].tolist()\n",
    "    y = df[\"category\"].tolist()\n",
    "    clf = MLPClassifier(solver='lbfgs', alpha=1e-5,\n",
    "                        hidden_layer_sizes=(5, 2), random_state=1)\n",
    "    clf.fit(X, y)                         \n",
    "    MLPClassifier(activation='relu', alpha=1e-05, batch_size='auto',\n",
    "           beta_1=0.9, beta_2=0.999, early_stopping=False,\n",
    "           epsilon=1e-08, hidden_layer_sizes=(5, 2), learning_rate='constant',\n",
    "           learning_rate_init=0.001, max_iter=200, momentum=0.9,\n",
    "           nesterovs_momentum=True, power_t=0.5, random_state=1, shuffle=True,\n",
    "           solver='lbfgs', tol=0.0001, validation_fraction=0.4, verbose=False,\n",
    "           warm_start=False)\n",
    "\n",
    "    print(\"word2vec_inception accuracy: %0.2f\" % (m_accuracy(df, clf)))"
   ]
  },
  {
   "cell_type": "markdown",
   "metadata": {},
   "source": [
    "# word2vec_doc2vec_class"
   ]
  },
  {
   "cell_type": "code",
   "execution_count": 7,
   "metadata": {},
   "outputs": [],
   "source": [
    "def word2vec_doc2vec_class():\n",
    "    df = pd.read_json(\"data/COCO/coco-easier.txt\", \n",
    "                  lines=True)\n",
    "    df = df.sample(frac=1).reset_index(drop=True)\n",
    "    word2vec_vectors_series = word2vec_wrapped.vectorize_content()\n",
    "    doc2vec_vectors_series = doc2vec_wrapped.vectorize_content()\n",
    "    df[\"concat_vectors\"] = df.apply(lambda row: concatenate(word2vec_vectors_series[row['file_name']],\n",
    "                                                           doc2vec_vectors_series[row['file_name']]), axis=1)\n",
    "    X = df[\"concat_vectors\"]\n",
    "    X\n",
    "\n",
    "    from sklearn.neural_network import MLPClassifier\n",
    "    X = df[\"concat_vectors\"].tolist()\n",
    "    y = df[\"category\"].tolist()\n",
    "    clf = MLPClassifier(solver='lbfgs', alpha=1e-5,\n",
    "                        hidden_layer_sizes=(5, 2), random_state=1)\n",
    "    clf.fit(X, y)                         \n",
    "    MLPClassifier(activation='relu', alpha=1e-05, batch_size='auto',\n",
    "           beta_1=0.9, beta_2=0.999, early_stopping=False,\n",
    "           epsilon=1e-08, hidden_layer_sizes=(5, 2), learning_rate='constant',\n",
    "           learning_rate_init=0.001, max_iter=200, momentum=0.9,\n",
    "           nesterovs_momentum=True, power_t=0.5, random_state=1, shuffle=True,\n",
    "           solver='lbfgs', tol=0.0001, validation_fraction=0.4, verbose=False,\n",
    "           warm_start=False)\n",
    "\n",
    "    print(\"word2vec_doc2vec accuracy: %0.2f\" % (m_accuracy(df, clf)))"
   ]
  },
  {
   "cell_type": "markdown",
   "metadata": {},
   "source": [
    "# word2vec_doc2vec_inception_class"
   ]
  },
  {
   "cell_type": "code",
   "execution_count": 8,
   "metadata": {},
   "outputs": [],
   "source": [
    "def word2vec_doc2vec_inception_class():\n",
    "    df = pd.read_json(\"data/COCO/coco-easier.txt\", \n",
    "                  lines=True)\n",
    "    df = df.sample(frac=1).reset_index(drop=True)\n",
    "    word2vec_vectors_series = word2vec_wrapped.vectorize_content()\n",
    "    doc2vec_vectors_series = doc2vec_wrapped.vectorize_content()\n",
    "\n",
    "    df[\"concat_vectors\"] = df.apply(lambda row: concatenate(word2vec_vectors_series[row['file_name']],\n",
    "                                                            doc2vec_vectors_series[row['file_name']],\n",
    "                                                            inception_df['vector'][row['file_name']]), axis=1)\n",
    "  \n",
    "    X = df[\"concat_vectors\"]\n",
    "    X\n",
    "\n",
    "    from sklearn.neural_network import MLPClassifier\n",
    "    X = df[\"concat_vectors\"].tolist()\n",
    "    y = df[\"category\"].tolist()\n",
    "    clf = MLPClassifier(solver='lbfgs', alpha=1e-5,\n",
    "                        hidden_layer_sizes=(5, 2), random_state=1)\n",
    "    clf.fit(X, y)                         \n",
    "    MLPClassifier(activation='relu', alpha=1e-05, batch_size='auto',\n",
    "           beta_1=0.9, beta_2=0.999, early_stopping=False,\n",
    "           epsilon=1e-08, hidden_layer_sizes=(5, 2), learning_rate='constant',\n",
    "           learning_rate_init=0.001, max_iter=200, momentum=0.9,\n",
    "           nesterovs_momentum=True, power_t=0.5, random_state=1, shuffle=True,\n",
    "           solver='lbfgs', tol=0.0001, validation_fraction=0.4, verbose=False,\n",
    "           warm_start=False)\n",
    "\n",
    "    print(\"word2vec_doc2vec_inception accuracy: %0.2f\" % (m_accuracy(df, clf)))"
   ]
  },
  {
   "cell_type": "code",
   "execution_count": 9,
   "metadata": {},
   "outputs": [
    {
     "name": "stderr",
     "output_type": "stream",
     "text": [
      "2018-05-26 22:43:37,928 : INFO : collecting all words and their counts\n",
      "2018-05-26 22:43:37,929 : INFO : PROGRESS: at example #0, processed 0 words (0/s), 0 word types, 0 tags\n",
      "2018-05-26 22:43:37,957 : INFO : collected 3702 word types and 10 unique tags from a corpus of 1503 examples and 65463 words\n",
      "2018-05-26 22:43:37,960 : INFO : Loading a fresh vocabulary\n",
      "2018-05-26 22:43:37,990 : INFO : min_count=5 retains 1058 unique words (28% of original 3702, drops 2644)\n",
      "2018-05-26 22:43:37,992 : INFO : min_count=5 leaves 61217 word corpus (93% of original 65463, drops 4246)\n",
      "2018-05-26 22:43:38,013 : INFO : deleting the raw counts dictionary of 3702 items\n",
      "2018-05-26 22:43:38,016 : INFO : sample=0.001 downsamples 71 most-common words\n",
      "2018-05-26 22:43:38,020 : INFO : downsampling leaves estimated 39737 word corpus (64.9% of prior 61217)\n",
      "2018-05-26 22:43:38,029 : INFO : estimated required memory for 1058 words and 400 dimensions: 3932600 bytes\n",
      "2018-05-26 22:43:38,033 : INFO : resetting layer weights\n",
      "2018-05-26 22:43:38,074 : INFO : training model with 1 workers on 1058 vocabulary and 400 features, using sg=1 hs=0 sample=0.001 negative=12 window=8\n",
      "2018-05-26 22:43:38,298 : INFO : worker thread finished; awaiting finish of 0 more threads\n",
      "2018-05-26 22:43:38,299 : INFO : EPOCH - 1 : training on 65463 raw words (41232 effective words) took 0.2s, 186829 effective words/s\n",
      "2018-05-26 22:43:38,510 : INFO : worker thread finished; awaiting finish of 0 more threads\n",
      "2018-05-26 22:43:38,511 : INFO : EPOCH - 2 : training on 65463 raw words (41111 effective words) took 0.2s, 196421 effective words/s\n",
      "2018-05-26 22:43:38,697 : INFO : worker thread finished; awaiting finish of 0 more threads\n",
      "2018-05-26 22:43:38,697 : INFO : EPOCH - 3 : training on 65463 raw words (41258 effective words) took 0.2s, 225345 effective words/s\n",
      "2018-05-26 22:43:38,917 : INFO : worker thread finished; awaiting finish of 0 more threads\n",
      "2018-05-26 22:43:38,918 : INFO : EPOCH - 4 : training on 65463 raw words (41138 effective words) took 0.2s, 188246 effective words/s\n",
      "2018-05-26 22:43:39,229 : INFO : worker thread finished; awaiting finish of 0 more threads\n",
      "2018-05-26 22:43:39,231 : INFO : EPOCH - 5 : training on 65463 raw words (41386 effective words) took 0.3s, 133964 effective words/s\n",
      "2018-05-26 22:43:39,555 : INFO : worker thread finished; awaiting finish of 0 more threads\n",
      "2018-05-26 22:43:39,559 : INFO : EPOCH - 6 : training on 65463 raw words (41225 effective words) took 0.3s, 129174 effective words/s\n",
      "2018-05-26 22:43:39,807 : INFO : worker thread finished; awaiting finish of 0 more threads\n",
      "2018-05-26 22:43:39,808 : INFO : EPOCH - 7 : training on 65463 raw words (41396 effective words) took 0.2s, 169792 effective words/s\n",
      "2018-05-26 22:43:40,046 : INFO : worker thread finished; awaiting finish of 0 more threads\n",
      "2018-05-26 22:43:40,048 : INFO : EPOCH - 8 : training on 65463 raw words (41267 effective words) took 0.2s, 174388 effective words/s\n",
      "2018-05-26 22:43:40,315 : INFO : worker thread finished; awaiting finish of 0 more threads\n",
      "2018-05-26 22:43:40,316 : INFO : EPOCH - 9 : training on 65463 raw words (41227 effective words) took 0.3s, 159440 effective words/s\n",
      "2018-05-26 22:43:40,578 : INFO : worker thread finished; awaiting finish of 0 more threads\n",
      "2018-05-26 22:43:40,579 : INFO : EPOCH - 10 : training on 65463 raw words (41149 effective words) took 0.3s, 158573 effective words/s\n",
      "2018-05-26 22:43:40,580 : INFO : training on a 654630 raw words (412389 effective words) took 2.5s, 164706 effective words/s\n"
     ]
    },
    {
     "name": "stdout",
     "output_type": "stream",
     "text": [
      "doc2vec_inception accuracy: 0.67\n"
     ]
    },
    {
     "name": "stderr",
     "output_type": "stream",
     "text": [
      "2018-05-26 22:43:52,083 : INFO : collecting all words and their counts\n",
      "2018-05-26 22:43:52,084 : INFO : PROGRESS: at example #0, processed 0 words (0/s), 0 word types, 0 tags\n",
      "2018-05-26 22:43:52,116 : INFO : collected 3702 word types and 10 unique tags from a corpus of 1503 examples and 65463 words\n",
      "2018-05-26 22:43:52,118 : INFO : Loading a fresh vocabulary\n",
      "2018-05-26 22:43:52,126 : INFO : min_count=5 retains 1058 unique words (28% of original 3702, drops 2644)\n",
      "2018-05-26 22:43:52,134 : INFO : min_count=5 leaves 61217 word corpus (93% of original 65463, drops 4246)\n",
      "2018-05-26 22:43:52,146 : INFO : deleting the raw counts dictionary of 3702 items\n",
      "2018-05-26 22:43:52,147 : INFO : sample=0.001 downsamples 71 most-common words\n",
      "2018-05-26 22:43:52,147 : INFO : downsampling leaves estimated 39737 word corpus (64.9% of prior 61217)\n",
      "2018-05-26 22:43:52,153 : INFO : estimated required memory for 1058 words and 400 dimensions: 3932600 bytes\n",
      "2018-05-26 22:43:52,156 : INFO : resetting layer weights\n",
      "2018-05-26 22:43:52,204 : INFO : training model with 1 workers on 1058 vocabulary and 400 features, using sg=1 hs=0 sample=0.001 negative=12 window=8\n"
     ]
    },
    {
     "name": "stdout",
     "output_type": "stream",
     "text": [
      "word2vec_inception accuracy: 0.48\n"
     ]
    },
    {
     "name": "stderr",
     "output_type": "stream",
     "text": [
      "2018-05-26 22:43:52,595 : INFO : worker thread finished; awaiting finish of 0 more threads\n",
      "2018-05-26 22:43:52,596 : INFO : EPOCH - 1 : training on 65463 raw words (41232 effective words) took 0.4s, 109802 effective words/s\n",
      "2018-05-26 22:43:52,812 : INFO : worker thread finished; awaiting finish of 0 more threads\n",
      "2018-05-26 22:43:52,813 : INFO : EPOCH - 2 : training on 65463 raw words (41111 effective words) took 0.2s, 192294 effective words/s\n",
      "2018-05-26 22:43:53,034 : INFO : worker thread finished; awaiting finish of 0 more threads\n",
      "2018-05-26 22:43:53,035 : INFO : EPOCH - 3 : training on 65463 raw words (41258 effective words) took 0.2s, 188547 effective words/s\n",
      "2018-05-26 22:43:53,459 : INFO : worker thread finished; awaiting finish of 0 more threads\n",
      "2018-05-26 22:43:53,460 : INFO : EPOCH - 4 : training on 65463 raw words (41138 effective words) took 0.4s, 97524 effective words/s\n",
      "2018-05-26 22:43:53,649 : INFO : worker thread finished; awaiting finish of 0 more threads\n",
      "2018-05-26 22:43:53,650 : INFO : EPOCH - 5 : training on 65463 raw words (41386 effective words) took 0.2s, 221639 effective words/s\n",
      "2018-05-26 22:43:53,855 : INFO : worker thread finished; awaiting finish of 0 more threads\n",
      "2018-05-26 22:43:53,856 : INFO : EPOCH - 6 : training on 65463 raw words (41225 effective words) took 0.2s, 204135 effective words/s\n",
      "2018-05-26 22:43:54,370 : INFO : worker thread finished; awaiting finish of 0 more threads\n",
      "2018-05-26 22:43:54,372 : INFO : EPOCH - 7 : training on 65463 raw words (41396 effective words) took 0.5s, 80733 effective words/s\n",
      "2018-05-26 22:43:55,075 : INFO : worker thread finished; awaiting finish of 0 more threads\n",
      "2018-05-26 22:43:55,076 : INFO : EPOCH - 8 : training on 65463 raw words (41267 effective words) took 0.7s, 59678 effective words/s\n",
      "2018-05-26 22:43:55,295 : INFO : worker thread finished; awaiting finish of 0 more threads\n",
      "2018-05-26 22:43:55,296 : INFO : EPOCH - 9 : training on 65463 raw words (41227 effective words) took 0.2s, 192163 effective words/s\n",
      "2018-05-26 22:43:55,648 : INFO : worker thread finished; awaiting finish of 0 more threads\n",
      "2018-05-26 22:43:55,652 : INFO : EPOCH - 10 : training on 65463 raw words (41149 effective words) took 0.4s, 116486 effective words/s\n",
      "2018-05-26 22:43:55,655 : INFO : training on a 654630 raw words (412389 effective words) took 3.4s, 119727 effective words/s\n",
      "2018-05-26 22:44:00,988 : INFO : collecting all words and their counts\n",
      "2018-05-26 22:44:00,989 : INFO : PROGRESS: at example #0, processed 0 words (0/s), 0 word types, 0 tags\n",
      "2018-05-26 22:44:01,020 : INFO : collected 3702 word types and 10 unique tags from a corpus of 1503 examples and 65463 words\n",
      "2018-05-26 22:44:01,023 : INFO : Loading a fresh vocabulary\n",
      "2018-05-26 22:44:01,030 : INFO : min_count=5 retains 1058 unique words (28% of original 3702, drops 2644)\n",
      "2018-05-26 22:44:01,032 : INFO : min_count=5 leaves 61217 word corpus (93% of original 65463, drops 4246)\n",
      "2018-05-26 22:44:01,040 : INFO : deleting the raw counts dictionary of 3702 items\n",
      "2018-05-26 22:44:01,042 : INFO : sample=0.001 downsamples 71 most-common words\n",
      "2018-05-26 22:44:01,043 : INFO : downsampling leaves estimated 39737 word corpus (64.9% of prior 61217)\n",
      "2018-05-26 22:44:01,050 : INFO : estimated required memory for 1058 words and 400 dimensions: 3932600 bytes\n",
      "2018-05-26 22:44:01,054 : INFO : resetting layer weights\n",
      "2018-05-26 22:44:01,098 : INFO : training model with 1 workers on 1058 vocabulary and 400 features, using sg=1 hs=0 sample=0.001 negative=12 window=8\n"
     ]
    },
    {
     "name": "stdout",
     "output_type": "stream",
     "text": [
      "word2vec_doc2vec accuracy: 0.92\n"
     ]
    },
    {
     "name": "stderr",
     "output_type": "stream",
     "text": [
      "2018-05-26 22:44:01,466 : INFO : worker thread finished; awaiting finish of 0 more threads\n",
      "2018-05-26 22:44:01,467 : INFO : EPOCH - 1 : training on 65463 raw words (41232 effective words) took 0.4s, 114391 effective words/s\n",
      "2018-05-26 22:44:01,650 : INFO : worker thread finished; awaiting finish of 0 more threads\n",
      "2018-05-26 22:44:01,651 : INFO : EPOCH - 2 : training on 65463 raw words (41111 effective words) took 0.2s, 227684 effective words/s\n",
      "2018-05-26 22:44:01,839 : INFO : worker thread finished; awaiting finish of 0 more threads\n",
      "2018-05-26 22:44:01,841 : INFO : EPOCH - 3 : training on 65463 raw words (41258 effective words) took 0.2s, 221147 effective words/s\n",
      "2018-05-26 22:44:02,027 : INFO : worker thread finished; awaiting finish of 0 more threads\n",
      "2018-05-26 22:44:02,028 : INFO : EPOCH - 4 : training on 65463 raw words (41138 effective words) took 0.2s, 223024 effective words/s\n",
      "2018-05-26 22:44:02,210 : INFO : worker thread finished; awaiting finish of 0 more threads\n",
      "2018-05-26 22:44:02,211 : INFO : EPOCH - 5 : training on 65463 raw words (41386 effective words) took 0.2s, 230304 effective words/s\n",
      "2018-05-26 22:44:02,403 : INFO : worker thread finished; awaiting finish of 0 more threads\n",
      "2018-05-26 22:44:02,403 : INFO : EPOCH - 6 : training on 65463 raw words (41225 effective words) took 0.2s, 217841 effective words/s\n",
      "2018-05-26 22:44:03,038 : INFO : worker thread finished; awaiting finish of 0 more threads\n",
      "2018-05-26 22:44:03,039 : INFO : EPOCH - 7 : training on 65463 raw words (41396 effective words) took 0.6s, 65522 effective words/s\n",
      "2018-05-26 22:44:03,263 : INFO : worker thread finished; awaiting finish of 0 more threads\n",
      "2018-05-26 22:44:03,264 : INFO : EPOCH - 8 : training on 65463 raw words (41267 effective words) took 0.2s, 187034 effective words/s\n",
      "2018-05-26 22:44:03,642 : INFO : worker thread finished; awaiting finish of 0 more threads\n",
      "2018-05-26 22:44:03,642 : INFO : EPOCH - 9 : training on 65463 raw words (41227 effective words) took 0.4s, 109842 effective words/s\n",
      "2018-05-26 22:44:03,837 : INFO : worker thread finished; awaiting finish of 0 more threads\n",
      "2018-05-26 22:44:03,838 : INFO : EPOCH - 10 : training on 65463 raw words (41149 effective words) took 0.2s, 213846 effective words/s\n",
      "2018-05-26 22:44:03,838 : INFO : training on a 654630 raw words (412389 effective words) took 2.7s, 150824 effective words/s\n"
     ]
    },
    {
     "name": "stdout",
     "output_type": "stream",
     "text": [
      "word2vec_doc2vec_inception accuracy: 0.65\n"
     ]
    }
   ],
   "source": [
    "doc2vec_inception_class()\n",
    "word2vec_inception_class()\n",
    "word2vec_doc2vec_class()\n",
    "word2vec_doc2vec_inception_class()\n",
    "\n"
   ]
  },
  {
   "cell_type": "code",
   "execution_count": null,
   "metadata": {},
   "outputs": [],
   "source": []
  }
 ],
 "metadata": {
  "kernelspec": {
   "display_name": "Python [default]",
   "language": "python",
   "name": "python3"
  },
  "language_info": {
   "codemirror_mode": {
    "name": "ipython",
    "version": 3
   },
   "file_extension": ".py",
   "mimetype": "text/x-python",
   "name": "python",
   "nbconvert_exporter": "python",
   "pygments_lexer": "ipython3",
   "version": "3.6.5"
  }
 },
 "nbformat": 4,
 "nbformat_minor": 2
}
