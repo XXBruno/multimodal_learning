{
 "cells": [
  {
   "cell_type": "code",
   "execution_count": 1,
   "metadata": {
    "scrolled": true
   },
   "outputs": [
    {
     "name": "stderr",
     "output_type": "stream",
     "text": [
      "c:\\users\\misko\\miniconda3\\lib\\site-packages\\gensim\\utils.py:1197: UserWarning: detected Windows; aliasing chunkize to chunkize_serial\n",
      "  warnings.warn(\"detected Windows; aliasing chunkize to chunkize_serial\")\n",
      "2018-05-27 11:25:26,683 : INFO : loading projection weights from data/GoogleNews-vectors-negative300.bin\n",
      "2018-05-27 11:25:29,840 : INFO : loaded (200000, 300) matrix from data/GoogleNews-vectors-negative300.bin\n"
     ]
    }
   ],
   "source": [
    "import word2vec_wrapped\n",
    "import doc2vec_wrapped\n",
    "import pandas as pd\n",
    "from sklearn.metrics import accuracy_score\n",
    "import numpy as np\n",
    "from sklearn.model_selection import cross_val_score"
   ]
  },
  {
   "cell_type": "code",
   "execution_count": 2,
   "metadata": {},
   "outputs": [
    {
     "data": {
      "text/html": [
       "<div>\n",
       "<style scoped>\n",
       "    .dataframe tbody tr th:only-of-type {\n",
       "        vertical-align: middle;\n",
       "    }\n",
       "\n",
       "    .dataframe tbody tr th {\n",
       "        vertical-align: top;\n",
       "    }\n",
       "\n",
       "    .dataframe thead th {\n",
       "        text-align: right;\n",
       "    }\n",
       "</style>\n",
       "<table border=\"1\" class=\"dataframe\">\n",
       "  <thead>\n",
       "    <tr style=\"text-align: right;\">\n",
       "      <th></th>\n",
       "      <th>vector</th>\n",
       "    </tr>\n",
       "    <tr>\n",
       "      <th>image</th>\n",
       "      <th></th>\n",
       "    </tr>\n",
       "  </thead>\n",
       "  <tbody>\n",
       "    <tr>\n",
       "      <th>000000173830.jpg</th>\n",
       "      <td>[0.27057743072509705, 0.11477771401405301, 0.0...</td>\n",
       "    </tr>\n",
       "    <tr>\n",
       "      <th>000000570664.jpg</th>\n",
       "      <td>[0.252127289772033, 0.434070438146591, 0.22712...</td>\n",
       "    </tr>\n",
       "    <tr>\n",
       "      <th>000000304396.jpg</th>\n",
       "      <td>[0.24179434776306102, 0.08653920888900701, 0.1...</td>\n",
       "    </tr>\n",
       "    <tr>\n",
       "      <th>000000441491.jpg</th>\n",
       "      <td>[0.11056154966354301, 0.08768206834793, 0.0857...</td>\n",
       "    </tr>\n",
       "    <tr>\n",
       "      <th>000000289059.jpg</th>\n",
       "      <td>[0.23210205137729603, 0.1578049659729, 0.27599...</td>\n",
       "    </tr>\n",
       "  </tbody>\n",
       "</table>\n",
       "</div>"
      ],
      "text/plain": [
       "                                                             vector\n",
       "image                                                              \n",
       "000000173830.jpg  [0.27057743072509705, 0.11477771401405301, 0.0...\n",
       "000000570664.jpg  [0.252127289772033, 0.434070438146591, 0.22712...\n",
       "000000304396.jpg  [0.24179434776306102, 0.08653920888900701, 0.1...\n",
       "000000441491.jpg  [0.11056154966354301, 0.08768206834793, 0.0857...\n",
       "000000289059.jpg  [0.23210205137729603, 0.1578049659729, 0.27599..."
      ]
     },
     "execution_count": 2,
     "metadata": {},
     "output_type": "execute_result"
    }
   ],
   "source": [
    "inception_df = pd.read_json(\"data/inception_output.txt\", lines=True)\n",
    "inception_df.set_index('image',inplace=True)\n",
    "inception_df[:5]"
   ]
  },
  {
   "cell_type": "code",
   "execution_count": 3,
   "metadata": {},
   "outputs": [],
   "source": [
    "def concatenate(vector1, vector2, vector3 = 0):\n",
    "    a = np.array(vector1)\n",
    "    b = np.array(vector2)\n",
    "    if (vector3 == 0):\n",
    "        return np.concatenate((a, b))\n",
    "    c = np.array(vector3)\n",
    "    return np.concatenate((np.concatenate((a, b)), c))"
   ]
  },
  {
   "cell_type": "code",
   "execution_count": 4,
   "metadata": {},
   "outputs": [],
   "source": [
    "def cross_val_accuracy(classifier, df):\n",
    "    # Returns the mean accuracy on the given test data and labels, in 5 cross validation splits\n",
    "    scores = cross_val_score(classifier, \n",
    "                             pd.DataFrame(df[\"concat_vectors\"].tolist()), \n",
    "                             df[\"category\"].values, \n",
    "                             cv=5)\n",
    "    print(\"Accuracy: %0.2f (+/- %0.2f)\" % (scores.mean(), scores.std() * 2))"
   ]
  },
  {
   "cell_type": "markdown",
   "metadata": {},
   "source": [
    "# doc2vec_inception_class"
   ]
  },
  {
   "cell_type": "markdown",
   "metadata": {},
   "source": [
    "# word2vec_inception_class"
   ]
  },
  {
   "cell_type": "code",
   "execution_count": 6,
   "metadata": {},
   "outputs": [],
   "source": [
    "def word2vec_inception_class():\n",
    "    df = pd.read_json(\"data/COCO/coco-easier.txt\", \n",
    "                  lines=True)\n",
    "    df = df.sample(frac=1).reset_index(drop=True)\n",
    "    word2vec_vectors_series = word2vec_wrapped.vectorize_content()\n",
    "    df[\"concat_vectors\"] = df.apply(lambda row: concatenate(word2vec_vectors_series[row['file_name']],\n",
    "                                                           inception_df['vector'][row['file_name']]), axis=1)\n",
    "    X = df[\"concat_vectors\"]\n",
    "    X\n",
    "\n",
    "    from sklearn.neural_network import MLPClassifier\n",
    "    X = df[\"concat_vectors\"].tolist()\n",
    "    y = df[\"category\"].tolist()\n",
    "    clf = MLPClassifier(solver='lbfgs', alpha=1e-5,\n",
    "                        hidden_layer_sizes=(20, 20), random_state=1)\n",
    "    clf.fit(X, y)                         \n",
    "    MLPClassifier(activation='relu', alpha=1e-05, batch_size='auto',\n",
    "           beta_1=0.9, beta_2=0.999, early_stopping=False,\n",
    "           epsilon=1e-08, hidden_layer_sizes=(5, 2), learning_rate='constant',\n",
    "           learning_rate_init=0.001, max_iter=200, momentum=0.9,\n",
    "           nesterovs_momentum=True, power_t=0.5, random_state=1, shuffle=True,\n",
    "           solver='lbfgs', tol=0.0001, validation_fraction=0.1, verbose=False,\n",
    "           warm_start=False)\n",
    "    print(\"word2vec_inception\")\n",
    "    cross_val_accuracy(clf, df)"
   ]
  },
  {
   "cell_type": "markdown",
   "metadata": {},
   "source": [
    "# word2vec_doc2vec_class"
   ]
  },
  {
   "cell_type": "code",
   "execution_count": 7,
   "metadata": {},
   "outputs": [],
   "source": [
    "def word2vec_doc2vec_class():\n",
    "    df = pd.read_json(\"data/COCO/coco-easier.txt\", \n",
    "                  lines=True)\n",
    "    df = df.sample(frac=1).reset_index(drop=True)\n",
    "    word2vec_vectors_series = word2vec_wrapped.vectorize_content()\n",
    "    doc2vec_vectors_series = doc2vec_wrapped.vectorize_content()\n",
    "    df[\"concat_vectors\"] = df.apply(lambda row: concatenate(word2vec_vectors_series[row['file_name']],\n",
    "                                                           doc2vec_vectors_series[row['file_name']]), axis=1)\n",
    "    X = df[\"concat_vectors\"]\n",
    "    X\n",
    "\n",
    "    from sklearn.neural_network import MLPClassifier\n",
    "    X = df[\"concat_vectors\"].tolist()\n",
    "    y = df[\"category\"].tolist()\n",
    "    clf = MLPClassifier(solver='lbfgs', alpha=1e-5,\n",
    "                        hidden_layer_sizes=(5, 4), random_state=1)\n",
    "    clf.fit(X, y)                         \n",
    "    MLPClassifier(activation='relu', alpha=1e-05, batch_size='auto',\n",
    "           beta_1=0.9, beta_2=0.999, early_stopping=False,\n",
    "           epsilon=1e-08, hidden_layer_sizes=(5, 2), learning_rate='constant',\n",
    "           learning_rate_init=0.001, max_iter=200, momentum=0.9,\n",
    "           nesterovs_momentum=True, power_t=0.5, random_state=1, shuffle=True,\n",
    "           solver='lbfgs', tol=0.0001, validation_fraction=0.1, verbose=False,\n",
    "           warm_start=False)\n",
    "    print(\"word2vec_doc2vec\")\n",
    "    cross_val_accuracy(clf, df)"
   ]
  },
  {
   "cell_type": "markdown",
   "metadata": {},
   "source": [
    "# word2vec_doc2vec_inception_class"
   ]
  },
  {
   "cell_type": "code",
   "execution_count": 8,
   "metadata": {},
   "outputs": [],
   "source": [
    "def word2vec_doc2vec_inception_class():\n",
    "    df = pd.read_json(\"data/COCO/coco-easier.txt\", \n",
    "                  lines=True)\n",
    "    df = df.sample(frac=1).reset_index(drop=True)\n",
    "    word2vec_vectors_series = word2vec_wrapped.vectorize_content()\n",
    "    doc2vec_vectors_series = doc2vec_wrapped.vectorize_content()\n",
    "\n",
    "    df[\"concat_vectors\"] = df.apply(lambda row: concatenate(word2vec_vectors_series[row['file_name']],\n",
    "                                                            doc2vec_vectors_series[row['file_name']],\n",
    "                                                            inception_df['vector'][row['file_name']]), axis=1)\n",
    "  \n",
    "    X = df[\"concat_vectors\"]\n",
    "    X\n",
    "\n",
    "    from sklearn.neural_network import MLPClassifier\n",
    "    X = df[\"concat_vectors\"].tolist()\n",
    "    y = df[\"category\"].tolist()\n",
    "    clf = MLPClassifier(solver='lbfgs', alpha=1e-5,\n",
    "                        hidden_layer_sizes=(20, 20), random_state=1)\n",
    "    clf.fit(X, y)                         \n",
    "    MLPClassifier(activation='relu', alpha=1e-05, batch_size='auto',\n",
    "           beta_1=0.9, beta_2=0.999, early_stopping=False,\n",
    "           epsilon=1e-08, hidden_layer_sizes=(5, 2), learning_rate='constant',\n",
    "           learning_rate_init=0.001, max_iter=200, momentum=0.9,\n",
    "           nesterovs_momentum=True, power_t=0.5, random_state=1, shuffle=True,\n",
    "           solver='lbfgs', tol=0.0001, validation_fraction=0.1, verbose=False,\n",
    "           warm_start=False)\n",
    "    print(\"word2vec_doc2vec_inception\")\n",
    "    cross_val_accuracy(clf, df)"
   ]
  },
  {
   "cell_type": "code",
   "execution_count": 9,
   "metadata": {},
   "outputs": [
    {
     "name": "stderr",
     "output_type": "stream",
     "text": [
      "2018-05-27 11:25:31,642 : INFO : collecting all words and their counts\n",
      "2018-05-27 11:25:31,644 : INFO : PROGRESS: at example #0, processed 0 words (0/s), 0 word types, 0 tags\n",
      "2018-05-27 11:25:31,667 : INFO : collected 3702 word types and 10 unique tags from a corpus of 1503 examples and 65463 words\n",
      "2018-05-27 11:25:31,669 : INFO : Loading a fresh vocabulary\n",
      "2018-05-27 11:25:31,675 : INFO : min_count=5 retains 1058 unique words (28% of original 3702, drops 2644)\n",
      "2018-05-27 11:25:31,676 : INFO : min_count=5 leaves 61217 word corpus (93% of original 65463, drops 4246)\n",
      "2018-05-27 11:25:31,681 : INFO : deleting the raw counts dictionary of 3702 items\n",
      "2018-05-27 11:25:31,682 : INFO : sample=0.001 downsamples 71 most-common words\n",
      "2018-05-27 11:25:31,683 : INFO : downsampling leaves estimated 39737 word corpus (64.9% of prior 61217)\n",
      "2018-05-27 11:25:31,690 : INFO : estimated required memory for 1058 words and 400 dimensions: 3932600 bytes\n",
      "2018-05-27 11:25:31,691 : INFO : resetting layer weights\n",
      "2018-05-27 11:25:31,722 : INFO : training model with 1 workers on 1058 vocabulary and 400 features, using sg=1 hs=0 sample=0.001 negative=12 window=8\n",
      "2018-05-27 11:25:31,927 : INFO : worker thread finished; awaiting finish of 0 more threads\n",
      "2018-05-27 11:25:31,928 : INFO : EPOCH - 1 : training on 65463 raw words (41232 effective words) took 0.2s, 204008 effective words/s\n",
      "2018-05-27 11:25:32,143 : INFO : worker thread finished; awaiting finish of 0 more threads\n",
      "2018-05-27 11:25:32,144 : INFO : EPOCH - 2 : training on 65463 raw words (41111 effective words) took 0.2s, 192737 effective words/s\n",
      "2018-05-27 11:25:32,374 : INFO : worker thread finished; awaiting finish of 0 more threads\n",
      "2018-05-27 11:25:32,375 : INFO : EPOCH - 3 : training on 65463 raw words (41258 effective words) took 0.2s, 183618 effective words/s\n",
      "2018-05-27 11:25:32,607 : INFO : worker thread finished; awaiting finish of 0 more threads\n",
      "2018-05-27 11:25:32,608 : INFO : EPOCH - 4 : training on 65463 raw words (41138 effective words) took 0.2s, 179299 effective words/s\n",
      "2018-05-27 11:25:32,834 : INFO : worker thread finished; awaiting finish of 0 more threads\n",
      "2018-05-27 11:25:32,835 : INFO : EPOCH - 5 : training on 65463 raw words (41386 effective words) took 0.2s, 185604 effective words/s\n",
      "2018-05-27 11:25:33,052 : INFO : worker thread finished; awaiting finish of 0 more threads\n",
      "2018-05-27 11:25:33,053 : INFO : EPOCH - 6 : training on 65463 raw words (41225 effective words) took 0.2s, 192716 effective words/s\n",
      "2018-05-27 11:25:33,249 : INFO : worker thread finished; awaiting finish of 0 more threads\n",
      "2018-05-27 11:25:33,251 : INFO : EPOCH - 7 : training on 65463 raw words (41396 effective words) took 0.2s, 212506 effective words/s\n",
      "2018-05-27 11:25:33,445 : INFO : worker thread finished; awaiting finish of 0 more threads\n",
      "2018-05-27 11:25:33,446 : INFO : EPOCH - 8 : training on 65463 raw words (41267 effective words) took 0.2s, 214858 effective words/s\n",
      "2018-05-27 11:25:33,639 : INFO : worker thread finished; awaiting finish of 0 more threads\n",
      "2018-05-27 11:25:33,640 : INFO : EPOCH - 9 : training on 65463 raw words (41227 effective words) took 0.2s, 215389 effective words/s\n",
      "2018-05-27 11:25:33,832 : INFO : worker thread finished; awaiting finish of 0 more threads\n",
      "2018-05-27 11:25:33,833 : INFO : EPOCH - 10 : training on 65463 raw words (41149 effective words) took 0.2s, 216976 effective words/s\n",
      "2018-05-27 11:25:33,835 : INFO : training on a 654630 raw words (412389 effective words) took 2.1s, 195294 effective words/s\n"
     ]
    },
    {
     "name": "stdout",
     "output_type": "stream",
     "text": [
      "doc2vec_inception\n",
      "Accuracy: 0.91 (+/- 0.05)\n",
      "word2vec_inception\n"
     ]
    },
    {
     "name": "stderr",
     "output_type": "stream",
     "text": [
      "2018-05-27 11:25:55,584 : INFO : collecting all words and their counts\n",
      "2018-05-27 11:25:55,585 : INFO : PROGRESS: at example #0, processed 0 words (0/s), 0 word types, 0 tags\n",
      "2018-05-27 11:25:55,611 : INFO : collected 3702 word types and 10 unique tags from a corpus of 1503 examples and 65463 words\n",
      "2018-05-27 11:25:55,613 : INFO : Loading a fresh vocabulary\n",
      "2018-05-27 11:25:55,624 : INFO : min_count=5 retains 1058 unique words (28% of original 3702, drops 2644)\n",
      "2018-05-27 11:25:55,625 : INFO : min_count=5 leaves 61217 word corpus (93% of original 65463, drops 4246)\n",
      "2018-05-27 11:25:55,637 : INFO : deleting the raw counts dictionary of 3702 items\n",
      "2018-05-27 11:25:55,639 : INFO : sample=0.001 downsamples 71 most-common words\n",
      "2018-05-27 11:25:55,641 : INFO : downsampling leaves estimated 39737 word corpus (64.9% of prior 61217)\n",
      "2018-05-27 11:25:55,647 : INFO : estimated required memory for 1058 words and 400 dimensions: 3932600 bytes\n",
      "2018-05-27 11:25:55,657 : INFO : resetting layer weights\n",
      "2018-05-27 11:25:55,694 : INFO : training model with 1 workers on 1058 vocabulary and 400 features, using sg=1 hs=0 sample=0.001 negative=12 window=8\n"
     ]
    },
    {
     "name": "stdout",
     "output_type": "stream",
     "text": [
      "Accuracy: 0.89 (+/- 0.02)\n"
     ]
    },
    {
     "name": "stderr",
     "output_type": "stream",
     "text": [
      "2018-05-27 11:25:55,907 : INFO : worker thread finished; awaiting finish of 0 more threads\n",
      "2018-05-27 11:25:55,908 : INFO : EPOCH - 1 : training on 65463 raw words (41232 effective words) took 0.2s, 196672 effective words/s\n",
      "2018-05-27 11:25:56,109 : INFO : worker thread finished; awaiting finish of 0 more threads\n",
      "2018-05-27 11:25:56,110 : INFO : EPOCH - 2 : training on 65463 raw words (41111 effective words) took 0.2s, 206756 effective words/s\n",
      "2018-05-27 11:25:56,314 : INFO : worker thread finished; awaiting finish of 0 more threads\n",
      "2018-05-27 11:25:56,315 : INFO : EPOCH - 3 : training on 65463 raw words (41258 effective words) took 0.2s, 204880 effective words/s\n",
      "2018-05-27 11:25:56,521 : INFO : worker thread finished; awaiting finish of 0 more threads\n",
      "2018-05-27 11:25:56,522 : INFO : EPOCH - 4 : training on 65463 raw words (41138 effective words) took 0.2s, 201437 effective words/s\n",
      "2018-05-27 11:25:56,726 : INFO : worker thread finished; awaiting finish of 0 more threads\n",
      "2018-05-27 11:25:56,728 : INFO : EPOCH - 5 : training on 65463 raw words (41386 effective words) took 0.2s, 203840 effective words/s\n",
      "2018-05-27 11:25:56,935 : INFO : worker thread finished; awaiting finish of 0 more threads\n",
      "2018-05-27 11:25:56,936 : INFO : EPOCH - 6 : training on 65463 raw words (41225 effective words) took 0.2s, 201599 effective words/s\n",
      "2018-05-27 11:25:57,135 : INFO : worker thread finished; awaiting finish of 0 more threads\n",
      "2018-05-27 11:25:57,135 : INFO : EPOCH - 7 : training on 65463 raw words (41396 effective words) took 0.2s, 211760 effective words/s\n",
      "2018-05-27 11:25:57,341 : INFO : worker thread finished; awaiting finish of 0 more threads\n",
      "2018-05-27 11:25:57,342 : INFO : EPOCH - 8 : training on 65463 raw words (41267 effective words) took 0.2s, 203410 effective words/s\n",
      "2018-05-27 11:25:57,545 : INFO : worker thread finished; awaiting finish of 0 more threads\n",
      "2018-05-27 11:25:57,546 : INFO : EPOCH - 9 : training on 65463 raw words (41227 effective words) took 0.2s, 205558 effective words/s\n",
      "2018-05-27 11:25:57,738 : INFO : worker thread finished; awaiting finish of 0 more threads\n",
      "2018-05-27 11:25:57,740 : INFO : EPOCH - 10 : training on 65463 raw words (41149 effective words) took 0.2s, 216214 effective words/s\n",
      "2018-05-27 11:25:57,740 : INFO : training on a 654630 raw words (412389 effective words) took 2.0s, 201674 effective words/s\n"
     ]
    },
    {
     "name": "stdout",
     "output_type": "stream",
     "text": [
      "word2vec_doc2vec\n"
     ]
    },
    {
     "name": "stderr",
     "output_type": "stream",
     "text": [
      "2018-05-27 11:26:09,384 : INFO : collecting all words and their counts\n",
      "2018-05-27 11:26:09,385 : INFO : PROGRESS: at example #0, processed 0 words (0/s), 0 word types, 0 tags\n",
      "2018-05-27 11:26:09,405 : INFO : collected 3702 word types and 10 unique tags from a corpus of 1503 examples and 65463 words\n",
      "2018-05-27 11:26:09,407 : INFO : Loading a fresh vocabulary\n",
      "2018-05-27 11:26:09,414 : INFO : min_count=5 retains 1058 unique words (28% of original 3702, drops 2644)\n",
      "2018-05-27 11:26:09,416 : INFO : min_count=5 leaves 61217 word corpus (93% of original 65463, drops 4246)\n",
      "2018-05-27 11:26:09,424 : INFO : deleting the raw counts dictionary of 3702 items\n",
      "2018-05-27 11:26:09,432 : INFO : sample=0.001 downsamples 71 most-common words\n",
      "2018-05-27 11:26:09,433 : INFO : downsampling leaves estimated 39737 word corpus (64.9% of prior 61217)\n",
      "2018-05-27 11:26:09,441 : INFO : estimated required memory for 1058 words and 400 dimensions: 3932600 bytes\n",
      "2018-05-27 11:26:09,442 : INFO : resetting layer weights\n",
      "2018-05-27 11:26:09,483 : INFO : training model with 1 workers on 1058 vocabulary and 400 features, using sg=1 hs=0 sample=0.001 negative=12 window=8\n"
     ]
    },
    {
     "name": "stdout",
     "output_type": "stream",
     "text": [
      "Accuracy: 0.93 (+/- 0.02)\n"
     ]
    },
    {
     "name": "stderr",
     "output_type": "stream",
     "text": [
      "2018-05-27 11:26:09,705 : INFO : worker thread finished; awaiting finish of 0 more threads\n",
      "2018-05-27 11:26:09,707 : INFO : EPOCH - 1 : training on 65463 raw words (41232 effective words) took 0.2s, 187151 effective words/s\n",
      "2018-05-27 11:26:09,909 : INFO : worker thread finished; awaiting finish of 0 more threads\n",
      "2018-05-27 11:26:09,910 : INFO : EPOCH - 2 : training on 65463 raw words (41111 effective words) took 0.2s, 206843 effective words/s\n",
      "2018-05-27 11:26:10,115 : INFO : worker thread finished; awaiting finish of 0 more threads\n",
      "2018-05-27 11:26:10,117 : INFO : EPOCH - 3 : training on 65463 raw words (41258 effective words) took 0.2s, 203969 effective words/s\n",
      "2018-05-27 11:26:10,317 : INFO : worker thread finished; awaiting finish of 0 more threads\n",
      "2018-05-27 11:26:10,318 : INFO : EPOCH - 4 : training on 65463 raw words (41138 effective words) took 0.2s, 208166 effective words/s\n",
      "2018-05-27 11:26:10,556 : INFO : worker thread finished; awaiting finish of 0 more threads\n",
      "2018-05-27 11:26:10,558 : INFO : EPOCH - 5 : training on 65463 raw words (41386 effective words) took 0.2s, 174810 effective words/s\n",
      "2018-05-27 11:26:10,773 : INFO : worker thread finished; awaiting finish of 0 more threads\n",
      "2018-05-27 11:26:10,775 : INFO : EPOCH - 6 : training on 65463 raw words (41225 effective words) took 0.2s, 193393 effective words/s\n",
      "2018-05-27 11:26:11,003 : INFO : worker thread finished; awaiting finish of 0 more threads\n",
      "2018-05-27 11:26:11,005 : INFO : EPOCH - 7 : training on 65463 raw words (41396 effective words) took 0.2s, 184102 effective words/s\n",
      "2018-05-27 11:26:11,225 : INFO : worker thread finished; awaiting finish of 0 more threads\n",
      "2018-05-27 11:26:11,226 : INFO : EPOCH - 8 : training on 65463 raw words (41267 effective words) took 0.2s, 188403 effective words/s\n",
      "2018-05-27 11:26:11,456 : INFO : worker thread finished; awaiting finish of 0 more threads\n",
      "2018-05-27 11:26:11,458 : INFO : EPOCH - 9 : training on 65463 raw words (41227 effective words) took 0.2s, 180902 effective words/s\n",
      "2018-05-27 11:26:11,707 : INFO : worker thread finished; awaiting finish of 0 more threads\n",
      "2018-05-27 11:26:11,708 : INFO : EPOCH - 10 : training on 65463 raw words (41149 effective words) took 0.2s, 167962 effective words/s\n",
      "2018-05-27 11:26:11,709 : INFO : training on a 654630 raw words (412389 effective words) took 2.2s, 185411 effective words/s\n"
     ]
    },
    {
     "name": "stdout",
     "output_type": "stream",
     "text": [
      "word2vec_doc2vec_inception\n",
      "Accuracy: 0.92 (+/- 0.04)\n"
     ]
    }
   ],
   "source": [
    "doc2vec_inception_class()\n",
    "word2vec_inception_class()\n",
    "word2vec_doc2vec_class()\n",
    "word2vec_doc2vec_inception_class()\n",
    "\n"
   ]
  },
  {
   "cell_type": "code",
   "execution_count": null,
   "metadata": {},
   "outputs": [],
   "source": []
  }
 ],
 "metadata": {
  "kernelspec": {
   "display_name": "Python 3",
   "language": "python",
   "name": "python3"
  },
  "language_info": {
   "codemirror_mode": {
    "name": "ipython",
    "version": 3
   },
   "file_extension": ".py",
   "mimetype": "text/x-python",
   "name": "python",
   "nbconvert_exporter": "python",
   "pygments_lexer": "ipython3",
   "version": "3.6.5"
  }
 },
 "nbformat": 4,
 "nbformat_minor": 2
}
