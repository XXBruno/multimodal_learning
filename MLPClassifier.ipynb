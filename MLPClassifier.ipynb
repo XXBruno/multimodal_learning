{
 "cells": [
  {
   "cell_type": "code",
   "execution_count": 1,
   "metadata": {
    "scrolled": true
   },
   "outputs": [
    {
     "name": "stderr",
     "output_type": "stream",
     "text": [
      "c:\\users\\misko\\miniconda3\\lib\\site-packages\\gensim\\utils.py:1197: UserWarning: detected Windows; aliasing chunkize to chunkize_serial\n",
      "  warnings.warn(\"detected Windows; aliasing chunkize to chunkize_serial\")\n",
      "2018-05-27 11:44:26,345 : INFO : loading projection weights from data/GoogleNews-vectors-negative300.bin\n",
      "2018-05-27 11:44:29,409 : INFO : loaded (200000, 300) matrix from data/GoogleNews-vectors-negative300.bin\n"
     ]
    }
   ],
   "source": [
    "import word2vec_wrapped\n",
    "import doc2vec_wrapped\n",
    "import pandas as pd\n",
    "from sklearn.metrics import accuracy_score\n",
    "import numpy as np\n",
    "from sklearn.model_selection import cross_val_score"
   ]
  },
  {
   "cell_type": "code",
   "execution_count": 2,
   "metadata": {},
   "outputs": [
    {
     "data": {
      "text/html": [
       "<div>\n",
       "<style scoped>\n",
       "    .dataframe tbody tr th:only-of-type {\n",
       "        vertical-align: middle;\n",
       "    }\n",
       "\n",
       "    .dataframe tbody tr th {\n",
       "        vertical-align: top;\n",
       "    }\n",
       "\n",
       "    .dataframe thead th {\n",
       "        text-align: right;\n",
       "    }\n",
       "</style>\n",
       "<table border=\"1\" class=\"dataframe\">\n",
       "  <thead>\n",
       "    <tr style=\"text-align: right;\">\n",
       "      <th></th>\n",
       "      <th>vector</th>\n",
       "    </tr>\n",
       "    <tr>\n",
       "      <th>image</th>\n",
       "      <th></th>\n",
       "    </tr>\n",
       "  </thead>\n",
       "  <tbody>\n",
       "    <tr>\n",
       "      <th>000000173830.jpg</th>\n",
       "      <td>[0.27057743072509705, 0.11477771401405301, 0.0...</td>\n",
       "    </tr>\n",
       "    <tr>\n",
       "      <th>000000570664.jpg</th>\n",
       "      <td>[0.252127289772033, 0.434070438146591, 0.22712...</td>\n",
       "    </tr>\n",
       "    <tr>\n",
       "      <th>000000304396.jpg</th>\n",
       "      <td>[0.24179434776306102, 0.08653920888900701, 0.1...</td>\n",
       "    </tr>\n",
       "    <tr>\n",
       "      <th>000000441491.jpg</th>\n",
       "      <td>[0.11056154966354301, 0.08768206834793, 0.0857...</td>\n",
       "    </tr>\n",
       "    <tr>\n",
       "      <th>000000289059.jpg</th>\n",
       "      <td>[0.23210205137729603, 0.1578049659729, 0.27599...</td>\n",
       "    </tr>\n",
       "  </tbody>\n",
       "</table>\n",
       "</div>"
      ],
      "text/plain": [
       "                                                             vector\n",
       "image                                                              \n",
       "000000173830.jpg  [0.27057743072509705, 0.11477771401405301, 0.0...\n",
       "000000570664.jpg  [0.252127289772033, 0.434070438146591, 0.22712...\n",
       "000000304396.jpg  [0.24179434776306102, 0.08653920888900701, 0.1...\n",
       "000000441491.jpg  [0.11056154966354301, 0.08768206834793, 0.0857...\n",
       "000000289059.jpg  [0.23210205137729603, 0.1578049659729, 0.27599..."
      ]
     },
     "execution_count": 2,
     "metadata": {},
     "output_type": "execute_result"
    }
   ],
   "source": [
    "inception_df = pd.read_json(\"data/inception_output.txt\", lines=True)\n",
    "inception_df.set_index('image',inplace=True)\n",
    "inception_df[:5]"
   ]
  },
  {
   "cell_type": "code",
   "execution_count": 3,
   "metadata": {},
   "outputs": [],
   "source": [
    "def concatenate(vector1, vector2, vector3 = 0):\n",
    "    a = np.array(vector1)\n",
    "    b = np.array(vector2)\n",
    "    if (vector3 == 0):\n",
    "        return np.concatenate((a, b))\n",
    "    c = np.array(vector3)\n",
    "    return np.concatenate((np.concatenate((a, b)), c))"
   ]
  },
  {
   "cell_type": "code",
   "execution_count": 4,
   "metadata": {},
   "outputs": [],
   "source": [
    "def cross_val_accuracy(classifier, df):\n",
    "    # Returns the mean accuracy on the given test data and labels, in 5 cross validation splits\n",
    "    scores = cross_val_score(classifier, \n",
    "                             pd.DataFrame(df[\"concat_vectors\"].tolist()), \n",
    "                             df[\"category\"].values, \n",
    "                             cv=5)\n",
    "    print(\"Accuracy: %0.2f (+/- %0.2f)\" % (scores.mean(), scores.std() * 2))"
   ]
  },
  {
   "cell_type": "markdown",
   "metadata": {},
   "source": [
    "# doc2vec_inception_class"
   ]
  },
  {
   "cell_type": "code",
   "execution_count": 5,
   "metadata": {},
   "outputs": [],
   "source": [
    "def doc2vec_inception_class():\n",
    "    df = pd.read_json(\"data/COCO/coco-easier.txt\", \n",
    "                  lines=True)\n",
    "    df = df.sample(frac=1).reset_index(drop=True)\n",
    "    doc2vec_vectors_series = doc2vec_wrapped.vectorize_content()\n",
    "    df[\"concat_vectors\"] = df.apply(lambda row: concatenate(doc2vec_vectors_series[row['file_name']],\n",
    "                                                           inception_df['vector'][row['file_name']]), axis=1)\n",
    "    X = df[\"concat_vectors\"]\n",
    "    X\n",
    "\n",
    "    from sklearn.neural_network import MLPClassifier\n",
    "    X = df[\"concat_vectors\"].tolist()\n",
    "    y = df[\"category\"].tolist()\n",
    "    clf = MLPClassifier(solver='lbfgs', alpha=1e-5,\n",
    "                        hidden_layer_sizes=(2500, 2500), random_state=1)\n",
    "    clf.fit(X, y)                         \n",
    "    MLPClassifier(activation='relu', alpha=1e-05, batch_size='auto',\n",
    "           beta_1=0.9, beta_2=0.999, early_stopping=False,\n",
    "           epsilon=1e-08, hidden_layer_sizes=(5, 2), learning_rate='constant',\n",
    "           learning_rate_init=0.001, max_iter=200, momentum=0.9,\n",
    "           nesterovs_momentum=True, power_t=0.5, random_state=1, shuffle=True,\n",
    "           solver='lbfgs', tol=0.0001, validation_fraction=0.1, verbose=False,\n",
    "           warm_start=False)\n",
    "    print(\"doc2vec_inception\")\n",
    "    cross_val_accuracy(clf, df)"
   ]
  },
  {
   "cell_type": "markdown",
   "metadata": {},
   "source": [
    "# word2vec_inception_class"
   ]
  },
  {
   "cell_type": "code",
   "execution_count": 6,
   "metadata": {},
   "outputs": [],
   "source": [
    "def word2vec_inception_class():\n",
    "    df = pd.read_json(\"data/COCO/coco-easier.txt\", \n",
    "                  lines=True)\n",
    "    df = df.sample(frac=1).reset_index(drop=True)\n",
    "    word2vec_vectors_series = word2vec_wrapped.vectorize_content()\n",
    "    df[\"concat_vectors\"] = df.apply(lambda row: concatenate(word2vec_vectors_series[row['file_name']],\n",
    "                                                           inception_df['vector'][row['file_name']]), axis=1)\n",
    "    X = df[\"concat_vectors\"]\n",
    "    X\n",
    "\n",
    "    from sklearn.neural_network import MLPClassifier\n",
    "    X = df[\"concat_vectors\"].tolist()\n",
    "    y = df[\"category\"].tolist()\n",
    "    clf = MLPClassifier(solver='lbfgs', alpha=1e-5,\n",
    "                        hidden_layer_sizes=(2500, 2500), random_state=1)\n",
    "    clf.fit(X, y)                         \n",
    "    MLPClassifier(activation='relu', alpha=1e-05, batch_size='auto',\n",
    "           beta_1=0.9, beta_2=0.999, early_stopping=False,\n",
    "           epsilon=1e-08, hidden_layer_sizes=(5, 2), learning_rate='constant',\n",
    "           learning_rate_init=0.001, max_iter=200, momentum=0.9,\n",
    "           nesterovs_momentum=True, power_t=0.5, random_state=1, shuffle=True,\n",
    "           solver='lbfgs', tol=0.0001, validation_fraction=0.1, verbose=False,\n",
    "           warm_start=False)\n",
    "    print(\"word2vec_inception\")\n",
    "    cross_val_accuracy(clf, df)"
   ]
  },
  {
   "cell_type": "markdown",
   "metadata": {},
   "source": [
    "# word2vec_doc2vec_class"
   ]
  },
  {
   "cell_type": "code",
   "execution_count": 7,
   "metadata": {},
   "outputs": [],
   "source": [
    "def word2vec_doc2vec_class():\n",
    "    df = pd.read_json(\"data/COCO/coco-easier.txt\", \n",
    "                  lines=True)\n",
    "    df = df.sample(frac=1).reset_index(drop=True)\n",
    "    word2vec_vectors_series = word2vec_wrapped.vectorize_content()\n",
    "    doc2vec_vectors_series = doc2vec_wrapped.vectorize_content()\n",
    "    df[\"concat_vectors\"] = df.apply(lambda row: concatenate(word2vec_vectors_series[row['file_name']],\n",
    "                                                           doc2vec_vectors_series[row['file_name']]), axis=1)\n",
    "    X = df[\"concat_vectors\"]\n",
    "    X\n",
    "\n",
    "    from sklearn.neural_network import MLPClassifier\n",
    "    X = df[\"concat_vectors\"].tolist()\n",
    "    y = df[\"category\"].tolist()\n",
    "    clf = MLPClassifier(solver='lbfgs', alpha=1e-5,\n",
    "                        hidden_layer_sizes=(2500, 2500), random_state=1)\n",
    "    clf.fit(X, y)                         \n",
    "    MLPClassifier(activation='relu', alpha=1e-05, batch_size='auto',\n",
    "           beta_1=0.9, beta_2=0.999, early_stopping=False,\n",
    "           epsilon=1e-08, hidden_layer_sizes=(5, 2), learning_rate='constant',\n",
    "           learning_rate_init=0.001, max_iter=200, momentum=0.9,\n",
    "           nesterovs_momentum=True, power_t=0.5, random_state=1, shuffle=True,\n",
    "           solver='lbfgs', tol=0.0001, validation_fraction=0.1, verbose=False,\n",
    "           warm_start=False)\n",
    "    print(\"word2vec_doc2vec\")\n",
    "    cross_val_accuracy(clf, df)"
   ]
  },
  {
   "cell_type": "markdown",
   "metadata": {},
   "source": [
    "# word2vec_doc2vec_inception_class"
   ]
  },
  {
   "cell_type": "code",
   "execution_count": 8,
   "metadata": {},
   "outputs": [],
   "source": [
    "def word2vec_doc2vec_inception_class():\n",
    "    df = pd.read_json(\"data/COCO/coco-easier.txt\", \n",
    "                  lines=True)\n",
    "    df = df.sample(frac=1).reset_index(drop=True)\n",
    "    word2vec_vectors_series = word2vec_wrapped.vectorize_content()\n",
    "    doc2vec_vectors_series = doc2vec_wrapped.vectorize_content()\n",
    "\n",
    "    df[\"concat_vectors\"] = df.apply(lambda row: concatenate(word2vec_vectors_series[row['file_name']],\n",
    "                                                            doc2vec_vectors_series[row['file_name']],\n",
    "                                                            inception_df['vector'][row['file_name']]), axis=1)\n",
    "  \n",
    "    X = df[\"concat_vectors\"]\n",
    "    X\n",
    "\n",
    "    from sklearn.neural_network import MLPClassifier\n",
    "    X = df[\"concat_vectors\"].tolist()\n",
    "    y = df[\"category\"].tolist()\n",
    "    clf = MLPClassifier(solver='lbfgs', alpha=1e-5,\n",
    "                        hidden_layer_sizes=(2500, 2500), random_state=1)\n",
    "    clf.fit(X, y)                         \n",
    "    MLPClassifier(activation='relu', alpha=1e-05, batch_size='auto',\n",
    "           beta_1=0.9, beta_2=0.999, early_stopping=False,\n",
    "           epsilon=1e-08, hidden_layer_sizes=(5, 2), learning_rate='constant',\n",
    "           learning_rate_init=0.001, max_iter=200, momentum=0.9,\n",
    "           nesterovs_momentum=True, power_t=0.5, random_state=1, shuffle=True,\n",
    "           solver='lbfgs', tol=0.0001, validation_fraction=0.1, verbose=False,\n",
    "           warm_start=False)\n",
    "    print(\"word2vec_doc2vec_inception\")\n",
    "    cross_val_accuracy(clf, df)"
   ]
  },
  {
   "cell_type": "code",
   "execution_count": 9,
   "metadata": {},
   "outputs": [
    {
     "name": "stderr",
     "output_type": "stream",
     "text": [
      "2018-05-27 11:44:31,324 : INFO : collecting all words and their counts\n",
      "2018-05-27 11:44:31,325 : INFO : PROGRESS: at example #0, processed 0 words (0/s), 0 word types, 0 tags\n",
      "2018-05-27 11:44:31,346 : INFO : collected 3702 word types and 10 unique tags from a corpus of 1503 examples and 65463 words\n",
      "2018-05-27 11:44:31,347 : INFO : Loading a fresh vocabulary\n",
      "2018-05-27 11:44:31,351 : INFO : min_count=5 retains 1058 unique words (28% of original 3702, drops 2644)\n",
      "2018-05-27 11:44:31,352 : INFO : min_count=5 leaves 61217 word corpus (93% of original 65463, drops 4246)\n",
      "2018-05-27 11:44:31,358 : INFO : deleting the raw counts dictionary of 3702 items\n",
      "2018-05-27 11:44:31,359 : INFO : sample=0.001 downsamples 71 most-common words\n",
      "2018-05-27 11:44:31,360 : INFO : downsampling leaves estimated 39737 word corpus (64.9% of prior 61217)\n",
      "2018-05-27 11:44:31,366 : INFO : estimated required memory for 1058 words and 400 dimensions: 3932600 bytes\n",
      "2018-05-27 11:44:31,367 : INFO : resetting layer weights\n",
      "2018-05-27 11:44:31,400 : INFO : training model with 1 workers on 1058 vocabulary and 400 features, using sg=1 hs=0 sample=0.001 negative=12 window=8\n",
      "2018-05-27 11:44:31,602 : INFO : worker thread finished; awaiting finish of 0 more threads\n",
      "2018-05-27 11:44:31,603 : INFO : EPOCH - 1 : training on 65463 raw words (41232 effective words) took 0.2s, 208234 effective words/s\n",
      "2018-05-27 11:44:31,811 : INFO : worker thread finished; awaiting finish of 0 more threads\n",
      "2018-05-27 11:44:31,812 : INFO : EPOCH - 2 : training on 65463 raw words (41111 effective words) took 0.2s, 199126 effective words/s\n",
      "2018-05-27 11:44:32,017 : INFO : worker thread finished; awaiting finish of 0 more threads\n",
      "2018-05-27 11:44:32,018 : INFO : EPOCH - 3 : training on 65463 raw words (41258 effective words) took 0.2s, 204102 effective words/s\n",
      "2018-05-27 11:44:32,266 : INFO : worker thread finished; awaiting finish of 0 more threads\n",
      "2018-05-27 11:44:32,268 : INFO : EPOCH - 4 : training on 65463 raw words (41138 effective words) took 0.2s, 166668 effective words/s\n",
      "2018-05-27 11:44:32,502 : INFO : worker thread finished; awaiting finish of 0 more threads\n",
      "2018-05-27 11:44:32,503 : INFO : EPOCH - 5 : training on 65463 raw words (41386 effective words) took 0.2s, 178444 effective words/s\n",
      "2018-05-27 11:44:32,722 : INFO : worker thread finished; awaiting finish of 0 more threads\n",
      "2018-05-27 11:44:32,723 : INFO : EPOCH - 6 : training on 65463 raw words (41225 effective words) took 0.2s, 189975 effective words/s\n",
      "2018-05-27 11:44:32,931 : INFO : worker thread finished; awaiting finish of 0 more threads\n",
      "2018-05-27 11:44:32,932 : INFO : EPOCH - 7 : training on 65463 raw words (41396 effective words) took 0.2s, 203878 effective words/s\n",
      "2018-05-27 11:44:33,140 : INFO : worker thread finished; awaiting finish of 0 more threads\n",
      "2018-05-27 11:44:33,141 : INFO : EPOCH - 8 : training on 65463 raw words (41267 effective words) took 0.2s, 200315 effective words/s\n",
      "2018-05-27 11:44:33,345 : INFO : worker thread finished; awaiting finish of 0 more threads\n",
      "2018-05-27 11:44:33,346 : INFO : EPOCH - 9 : training on 65463 raw words (41227 effective words) took 0.2s, 203793 effective words/s\n",
      "2018-05-27 11:44:33,549 : INFO : worker thread finished; awaiting finish of 0 more threads\n",
      "2018-05-27 11:44:33,550 : INFO : EPOCH - 10 : training on 65463 raw words (41149 effective words) took 0.2s, 207141 effective words/s\n",
      "2018-05-27 11:44:33,551 : INFO : training on a 654630 raw words (412389 effective words) took 2.1s, 191935 effective words/s\n"
     ]
    },
    {
     "name": "stdout",
     "output_type": "stream",
     "text": [
      "doc2vec_inception\n",
      "Accuracy: 0.93 (+/- 0.01)\n",
      "word2vec_inception\n"
     ]
    },
    {
     "name": "stderr",
     "output_type": "stream",
     "text": [
      "2018-05-27 12:16:34,764 : INFO : collecting all words and their counts\n",
      "2018-05-27 12:16:34,769 : INFO : PROGRESS: at example #0, processed 0 words (0/s), 0 word types, 0 tags\n",
      "2018-05-27 12:16:34,800 : INFO : collected 3702 word types and 10 unique tags from a corpus of 1503 examples and 65463 words\n",
      "2018-05-27 12:16:34,801 : INFO : Loading a fresh vocabulary\n",
      "2018-05-27 12:16:34,808 : INFO : min_count=5 retains 1058 unique words (28% of original 3702, drops 2644)\n",
      "2018-05-27 12:16:34,810 : INFO : min_count=5 leaves 61217 word corpus (93% of original 65463, drops 4246)\n",
      "2018-05-27 12:16:34,817 : INFO : deleting the raw counts dictionary of 3702 items\n",
      "2018-05-27 12:16:34,818 : INFO : sample=0.001 downsamples 71 most-common words\n",
      "2018-05-27 12:16:34,819 : INFO : downsampling leaves estimated 39737 word corpus (64.9% of prior 61217)\n",
      "2018-05-27 12:16:34,826 : INFO : estimated required memory for 1058 words and 400 dimensions: 3932600 bytes\n",
      "2018-05-27 12:16:34,828 : INFO : resetting layer weights\n",
      "2018-05-27 12:16:34,869 : INFO : training model with 1 workers on 1058 vocabulary and 400 features, using sg=1 hs=0 sample=0.001 negative=12 window=8\n"
     ]
    },
    {
     "name": "stdout",
     "output_type": "stream",
     "text": [
      "Accuracy: 0.90 (+/- 0.03)\n"
     ]
    },
    {
     "name": "stderr",
     "output_type": "stream",
     "text": [
      "2018-05-27 12:16:35,091 : INFO : worker thread finished; awaiting finish of 0 more threads\n",
      "2018-05-27 12:16:35,092 : INFO : EPOCH - 1 : training on 65463 raw words (41232 effective words) took 0.2s, 189660 effective words/s\n",
      "2018-05-27 12:16:35,293 : INFO : worker thread finished; awaiting finish of 0 more threads\n",
      "2018-05-27 12:16:35,295 : INFO : EPOCH - 2 : training on 65463 raw words (41111 effective words) took 0.2s, 205945 effective words/s\n",
      "2018-05-27 12:16:35,500 : INFO : worker thread finished; awaiting finish of 0 more threads\n",
      "2018-05-27 12:16:35,501 : INFO : EPOCH - 3 : training on 65463 raw words (41258 effective words) took 0.2s, 203100 effective words/s\n",
      "2018-05-27 12:16:35,694 : INFO : worker thread finished; awaiting finish of 0 more threads\n",
      "2018-05-27 12:16:35,695 : INFO : EPOCH - 4 : training on 65463 raw words (41138 effective words) took 0.2s, 216100 effective words/s\n",
      "2018-05-27 12:16:35,890 : INFO : worker thread finished; awaiting finish of 0 more threads\n",
      "2018-05-27 12:16:35,891 : INFO : EPOCH - 5 : training on 65463 raw words (41386 effective words) took 0.2s, 213869 effective words/s\n",
      "2018-05-27 12:16:36,084 : INFO : worker thread finished; awaiting finish of 0 more threads\n",
      "2018-05-27 12:16:36,085 : INFO : EPOCH - 6 : training on 65463 raw words (41225 effective words) took 0.2s, 216590 effective words/s\n",
      "2018-05-27 12:16:36,276 : INFO : worker thread finished; awaiting finish of 0 more threads\n",
      "2018-05-27 12:16:36,277 : INFO : EPOCH - 7 : training on 65463 raw words (41396 effective words) took 0.2s, 220604 effective words/s\n",
      "2018-05-27 12:16:36,475 : INFO : worker thread finished; awaiting finish of 0 more threads\n",
      "2018-05-27 12:16:36,477 : INFO : EPOCH - 8 : training on 65463 raw words (41267 effective words) took 0.2s, 211309 effective words/s\n",
      "2018-05-27 12:16:36,666 : INFO : worker thread finished; awaiting finish of 0 more threads\n",
      "2018-05-27 12:16:36,667 : INFO : EPOCH - 9 : training on 65463 raw words (41227 effective words) took 0.2s, 221242 effective words/s\n",
      "2018-05-27 12:16:36,856 : INFO : worker thread finished; awaiting finish of 0 more threads\n",
      "2018-05-27 12:16:36,857 : INFO : EPOCH - 10 : training on 65463 raw words (41149 effective words) took 0.2s, 219764 effective words/s\n",
      "2018-05-27 12:16:36,858 : INFO : training on a 654630 raw words (412389 effective words) took 2.0s, 207465 effective words/s\n"
     ]
    },
    {
     "name": "stdout",
     "output_type": "stream",
     "text": [
      "word2vec_doc2vec\n"
     ]
    },
    {
     "name": "stderr",
     "output_type": "stream",
     "text": [
      "2018-05-27 12:33:10,196 : INFO : collecting all words and their counts\n",
      "2018-05-27 12:33:10,197 : INFO : PROGRESS: at example #0, processed 0 words (0/s), 0 word types, 0 tags\n",
      "2018-05-27 12:33:10,218 : INFO : collected 3702 word types and 10 unique tags from a corpus of 1503 examples and 65463 words\n",
      "2018-05-27 12:33:10,219 : INFO : Loading a fresh vocabulary\n",
      "2018-05-27 12:33:10,225 : INFO : min_count=5 retains 1058 unique words (28% of original 3702, drops 2644)\n",
      "2018-05-27 12:33:10,226 : INFO : min_count=5 leaves 61217 word corpus (93% of original 65463, drops 4246)\n",
      "2018-05-27 12:33:10,232 : INFO : deleting the raw counts dictionary of 3702 items\n",
      "2018-05-27 12:33:10,233 : INFO : sample=0.001 downsamples 71 most-common words\n",
      "2018-05-27 12:33:10,234 : INFO : downsampling leaves estimated 39737 word corpus (64.9% of prior 61217)\n",
      "2018-05-27 12:33:10,238 : INFO : estimated required memory for 1058 words and 400 dimensions: 3932600 bytes\n",
      "2018-05-27 12:33:10,240 : INFO : resetting layer weights\n",
      "2018-05-27 12:33:10,271 : INFO : training model with 1 workers on 1058 vocabulary and 400 features, using sg=1 hs=0 sample=0.001 negative=12 window=8\n"
     ]
    },
    {
     "name": "stdout",
     "output_type": "stream",
     "text": [
      "Accuracy: 0.96 (+/- 0.02)\n"
     ]
    },
    {
     "name": "stderr",
     "output_type": "stream",
     "text": [
      "2018-05-27 12:33:10,488 : INFO : worker thread finished; awaiting finish of 0 more threads\n",
      "2018-05-27 12:33:10,490 : INFO : EPOCH - 1 : training on 65463 raw words (41232 effective words) took 0.2s, 191649 effective words/s\n",
      "2018-05-27 12:33:10,692 : INFO : worker thread finished; awaiting finish of 0 more threads\n",
      "2018-05-27 12:33:10,694 : INFO : EPOCH - 2 : training on 65463 raw words (41111 effective words) took 0.2s, 205451 effective words/s\n",
      "2018-05-27 12:33:10,899 : INFO : worker thread finished; awaiting finish of 0 more threads\n",
      "2018-05-27 12:33:10,900 : INFO : EPOCH - 3 : training on 65463 raw words (41258 effective words) took 0.2s, 204377 effective words/s\n",
      "2018-05-27 12:33:11,093 : INFO : worker thread finished; awaiting finish of 0 more threads\n",
      "2018-05-27 12:33:11,094 : INFO : EPOCH - 4 : training on 65463 raw words (41138 effective words) took 0.2s, 215600 effective words/s\n",
      "2018-05-27 12:33:11,294 : INFO : worker thread finished; awaiting finish of 0 more threads\n",
      "2018-05-27 12:33:11,295 : INFO : EPOCH - 5 : training on 65463 raw words (41386 effective words) took 0.2s, 209235 effective words/s\n",
      "2018-05-27 12:33:11,487 : INFO : worker thread finished; awaiting finish of 0 more threads\n",
      "2018-05-27 12:33:11,488 : INFO : EPOCH - 6 : training on 65463 raw words (41225 effective words) took 0.2s, 218450 effective words/s\n",
      "2018-05-27 12:33:11,678 : INFO : worker thread finished; awaiting finish of 0 more threads\n",
      "2018-05-27 12:33:11,679 : INFO : EPOCH - 7 : training on 65463 raw words (41396 effective words) took 0.2s, 220338 effective words/s\n",
      "2018-05-27 12:33:11,874 : INFO : worker thread finished; awaiting finish of 0 more threads\n",
      "2018-05-27 12:33:11,875 : INFO : EPOCH - 8 : training on 65463 raw words (41267 effective words) took 0.2s, 215410 effective words/s\n",
      "2018-05-27 12:33:12,064 : INFO : worker thread finished; awaiting finish of 0 more threads\n",
      "2018-05-27 12:33:12,065 : INFO : EPOCH - 9 : training on 65463 raw words (41227 effective words) took 0.2s, 220778 effective words/s\n",
      "2018-05-27 12:33:12,253 : INFO : worker thread finished; awaiting finish of 0 more threads\n",
      "2018-05-27 12:33:12,255 : INFO : EPOCH - 10 : training on 65463 raw words (41149 effective words) took 0.2s, 221780 effective words/s\n",
      "2018-05-27 12:33:12,256 : INFO : training on a 654630 raw words (412389 effective words) took 2.0s, 207932 effective words/s\n"
     ]
    },
    {
     "name": "stdout",
     "output_type": "stream",
     "text": [
      "word2vec_doc2vec_inception\n",
      "Accuracy: 0.93 (+/- 0.03)\n"
     ]
    }
   ],
   "source": [
    "doc2vec_inception_class()\n",
    "word2vec_inception_class()\n",
    "word2vec_doc2vec_class()\n",
    "word2vec_doc2vec_inception_class()\n",
    "\n"
   ]
  },
  {
   "cell_type": "code",
   "execution_count": null,
   "metadata": {},
   "outputs": [],
   "source": []
  }
 ],
 "metadata": {
  "kernelspec": {
   "display_name": "Python 3",
   "language": "python",
   "name": "python3"
  },
  "language_info": {
   "codemirror_mode": {
    "name": "ipython",
    "version": 3
   },
   "file_extension": ".py",
   "mimetype": "text/x-python",
   "name": "python",
   "nbconvert_exporter": "python",
   "pygments_lexer": "ipython3",
   "version": "3.6.5"
  }
 },
 "nbformat": 4,
 "nbformat_minor": 2
}
