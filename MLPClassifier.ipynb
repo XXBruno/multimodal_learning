{
 "cells": [
  {
   "cell_type": "code",
   "execution_count": 1,
   "metadata": {
    "scrolled": true
   },
   "outputs": [
    {
     "name": "stderr",
     "output_type": "stream",
     "text": [
      "c:\\users\\misko\\miniconda3\\lib\\site-packages\\gensim\\utils.py:1197: UserWarning: detected Windows; aliasing chunkize to chunkize_serial\n",
      "  warnings.warn(\"detected Windows; aliasing chunkize to chunkize_serial\")\n",
      "2018-05-26 21:04:45,190 : INFO : loading projection weights from data/GoogleNews-vectors-negative300.bin\n",
      "2018-05-26 21:04:47,823 : INFO : loaded (200000, 300) matrix from data/GoogleNews-vectors-negative300.bin\n"
     ]
    }
   ],
   "source": [
    "import word2vec_wrapped\n",
    "import doc2vec_wrapped\n",
    "import pandas as pd\n"
   ]
  },
  {
   "cell_type": "code",
   "execution_count": 2,
   "metadata": {},
   "outputs": [
    {
     "data": {
      "text/html": [
       "<div>\n",
       "<style scoped>\n",
       "    .dataframe tbody tr th:only-of-type {\n",
       "        vertical-align: middle;\n",
       "    }\n",
       "\n",
       "    .dataframe tbody tr th {\n",
       "        vertical-align: top;\n",
       "    }\n",
       "\n",
       "    .dataframe thead th {\n",
       "        text-align: right;\n",
       "    }\n",
       "</style>\n",
       "<table border=\"1\" class=\"dataframe\">\n",
       "  <thead>\n",
       "    <tr style=\"text-align: right;\">\n",
       "      <th></th>\n",
       "      <th>vector</th>\n",
       "    </tr>\n",
       "    <tr>\n",
       "      <th>image</th>\n",
       "      <th></th>\n",
       "    </tr>\n",
       "  </thead>\n",
       "  <tbody>\n",
       "    <tr>\n",
       "      <th>000000173830.jpg</th>\n",
       "      <td>[0.27057743072509705, 0.11477771401405301, 0.0...</td>\n",
       "    </tr>\n",
       "    <tr>\n",
       "      <th>000000570664.jpg</th>\n",
       "      <td>[0.252127289772033, 0.434070438146591, 0.22712...</td>\n",
       "    </tr>\n",
       "    <tr>\n",
       "      <th>000000304396.jpg</th>\n",
       "      <td>[0.24179434776306102, 0.08653920888900701, 0.1...</td>\n",
       "    </tr>\n",
       "    <tr>\n",
       "      <th>000000441491.jpg</th>\n",
       "      <td>[0.11056154966354301, 0.08768206834793, 0.0857...</td>\n",
       "    </tr>\n",
       "    <tr>\n",
       "      <th>000000289059.jpg</th>\n",
       "      <td>[0.23210205137729603, 0.1578049659729, 0.27599...</td>\n",
       "    </tr>\n",
       "  </tbody>\n",
       "</table>\n",
       "</div>"
      ],
      "text/plain": [
       "                                                             vector\n",
       "image                                                              \n",
       "000000173830.jpg  [0.27057743072509705, 0.11477771401405301, 0.0...\n",
       "000000570664.jpg  [0.252127289772033, 0.434070438146591, 0.22712...\n",
       "000000304396.jpg  [0.24179434776306102, 0.08653920888900701, 0.1...\n",
       "000000441491.jpg  [0.11056154966354301, 0.08768206834793, 0.0857...\n",
       "000000289059.jpg  [0.23210205137729603, 0.1578049659729, 0.27599..."
      ]
     },
     "execution_count": 2,
     "metadata": {},
     "output_type": "execute_result"
    }
   ],
   "source": [
    "inception_df = pd.read_json(\"data/inception_output.txt\", lines=True)\n",
    "inception_df.set_index('image',inplace=True)\n",
    "inception_df[:5]"
   ]
  },
  {
   "cell_type": "code",
   "execution_count": 3,
   "metadata": {},
   "outputs": [],
   "source": [
    "import numpy as np\n",
    "\n",
    "def concatenate(vector1, vector2):\n",
    "    a = np.array(vector1)\n",
    "    b = np.array(vector2)\n",
    "    return np.concatenate((a, b))"
   ]
  },
  {
   "cell_type": "markdown",
   "metadata": {},
   "source": [
    "# doc2vec_inception_class"
   ]
  },
  {
   "cell_type": "code",
   "execution_count": 4,
   "metadata": {},
   "outputs": [],
   "source": [
    "def doc2vec_inception_class():\n",
    "    df = pd.read_json(\"data/COCO/coco-easier.txt\", \n",
    "                  lines=True)\n",
    "    df = df.sample(frac=1).reset_index(drop=True)\n",
    "    doc2vec_vectors_series = doc2vec_wrapped.vectorize_content()\n",
    "    df[\"concat_vectors\"] = df.apply(lambda row: concatenate(doc2vec_vectors_series[row['file_name']],\n",
    "                                                           inception_df['vector'][row['file_name']]), axis=1)\n",
    "    df[:5]\n",
    "\n",
    "    X = df[\"concat_vectors\"]\n",
    "    X\n",
    "\n",
    "    from sklearn.neural_network import MLPClassifier\n",
    "    X = df[\"concat_vectors\"].tolist()\n",
    "    y = df[\"category\"].tolist()\n",
    "    clf = MLPClassifier(solver='lbfgs', alpha=1e-5,\n",
    "                        hidden_layer_sizes=(5, 2), random_state=1)\n",
    "    clf.fit(X, y)                         \n",
    "    MLPClassifier(activation='relu', alpha=1e-05, batch_size='auto',\n",
    "           beta_1=0.9, beta_2=0.999, early_stopping=False,\n",
    "           epsilon=1e-08, hidden_layer_sizes=(5, 2), learning_rate='constant',\n",
    "           learning_rate_init=0.001, max_iter=200, momentum=0.9,\n",
    "           nesterovs_momentum=True, power_t=0.5, random_state=1, shuffle=True,\n",
    "           solver='lbfgs', tol=0.0001, validation_fraction=0.1, verbose=False,\n",
    "           warm_start=False)\n",
    "\n",
    "    df.loc[df['img_id'] == 125850].concat_vectors\n",
    "    print(clf.predict(df.loc[df['img_id'] == 125850].concat_vectors.tolist())[0])\n"
   ]
  },
  {
   "cell_type": "markdown",
   "metadata": {},
   "source": [
    "# word2vec_inception_class"
   ]
  },
  {
   "cell_type": "code",
   "execution_count": 5,
   "metadata": {},
   "outputs": [],
   "source": [
    "def word2vec_inception_class():\n",
    "    df = pd.read_json(\"data/COCO/coco-easier.txt\", \n",
    "                  lines=True)\n",
    "    df = df.sample(frac=1).reset_index(drop=True)\n",
    "    word2vec_vectors_series = word2vec_wrapped.vectorize_content()\n",
    "    df[\"concat_vectors\"] = df.apply(lambda row: concatenate(word2vec_vectors_series[row['file_name']],\n",
    "                                                           inception_df['vector'][row['file_name']]), axis=1)\n",
    "    X = df[\"concat_vectors\"]\n",
    "    X\n",
    "\n",
    "    from sklearn.neural_network import MLPClassifier\n",
    "    X = df[\"concat_vectors\"].tolist()\n",
    "    y = df[\"category\"].tolist()\n",
    "    clf = MLPClassifier(solver='lbfgs', alpha=1e-5,\n",
    "                        hidden_layer_sizes=(5, 2), random_state=1)\n",
    "    clf.fit(X, y)                         \n",
    "    MLPClassifier(activation='relu', alpha=1e-05, batch_size='auto',\n",
    "           beta_1=0.9, beta_2=0.999, early_stopping=False,\n",
    "           epsilon=1e-08, hidden_layer_sizes=(5, 2), learning_rate='constant',\n",
    "           learning_rate_init=0.001, max_iter=200, momentum=0.9,\n",
    "           nesterovs_momentum=True, power_t=0.5, random_state=1, shuffle=True,\n",
    "           solver='lbfgs', tol=0.0001, validation_fraction=0.1, verbose=False,\n",
    "           warm_start=False)\n",
    "\n",
    "    df.loc[df['img_id'] == 125850].concat_vectors\n",
    "    print(clf.predict(df.loc[df['img_id'] == 125850].concat_vectors.tolist())[0])"
   ]
  },
  {
   "cell_type": "markdown",
   "metadata": {},
   "source": [
    "# word2vec_doc2vec_class"
   ]
  },
  {
   "cell_type": "code",
   "execution_count": 6,
   "metadata": {},
   "outputs": [],
   "source": [
    "def word2vec_doc2vec_class():\n",
    "    df = pd.read_json(\"data/COCO/coco-easier.txt\", \n",
    "                  lines=True)\n",
    "    df = df.sample(frac=1).reset_index(drop=True)\n",
    "    word2vec_vectors_series = word2vec_wrapped.vectorize_content()\n",
    "    doc2vec_vectors_series = doc2vec_wrapped.vectorize_content()\n",
    "    df[\"concat_vectors\"] = df.apply(lambda row: concatenate(word2vec_vectors_series[row['file_name']],\n",
    "                                                           doc2vec_vectors_series[row['file_name']]), axis=1)\n",
    "    X = df[\"concat_vectors\"]\n",
    "    X\n",
    "\n",
    "    from sklearn.neural_network import MLPClassifier\n",
    "    X = df[\"concat_vectors\"].tolist()\n",
    "    y = df[\"category\"].tolist()\n",
    "    clf = MLPClassifier(solver='lbfgs', alpha=1e-5,\n",
    "                        hidden_layer_sizes=(5, 2), random_state=1)\n",
    "    clf.fit(X, y)                         \n",
    "    MLPClassifier(activation='relu', alpha=1e-05, batch_size='auto',\n",
    "           beta_1=0.9, beta_2=0.999, early_stopping=False,\n",
    "           epsilon=1e-08, hidden_layer_sizes=(5, 2), learning_rate='constant',\n",
    "           learning_rate_init=0.001, max_iter=200, momentum=0.9,\n",
    "           nesterovs_momentum=True, power_t=0.5, random_state=1, shuffle=True,\n",
    "           solver='lbfgs', tol=0.0001, validation_fraction=0.1, verbose=False,\n",
    "           warm_start=False)\n",
    "\n",
    "    df.loc[df['img_id'] == 125850].concat_vectors\n",
    "    print(clf.predict(df.loc[df['img_id'] == 125850].concat_vectors.tolist())[0])"
   ]
  },
  {
   "cell_type": "markdown",
   "metadata": {},
   "source": [
    "# word2vec_doc2vec_inception_class"
   ]
  },
  {
   "cell_type": "code",
   "execution_count": 7,
   "metadata": {},
   "outputs": [
    {
     "ename": "SyntaxError",
     "evalue": "invalid syntax (<ipython-input-7-51c9b372fa8c>, line 11)",
     "output_type": "error",
     "traceback": [
      "\u001b[1;36m  File \u001b[1;32m\"<ipython-input-7-51c9b372fa8c>\"\u001b[1;36m, line \u001b[1;32m11\u001b[0m\n\u001b[1;33m    X = df[\"concat_vectors\"]\u001b[0m\n\u001b[1;37m    ^\u001b[0m\n\u001b[1;31mSyntaxError\u001b[0m\u001b[1;31m:\u001b[0m invalid syntax\n"
     ]
    }
   ],
   "source": [
    "def word2vec_doc2vec_inception_class():\n",
    "    df = pd.read_json(\"data/COCO/coco-easier.txt\", \n",
    "                  lines=True)\n",
    "    df = df.sample(frac=1).reset_index(drop=True)\n",
    "    word2vec_vectors_series = word2vec_wrapped.vectorize_content()\n",
    "    doc2vec_vectors_series = doc2vec_wrapped.vectorize_content()\n",
    "    df[\"concat_vectors\"] = df.apply(lambda row: concatenate(word2vec_vectors_series[row['file_name']],\n",
    "                                                           concatenate(doc2vec_vectors_series[row['file_name']],\n",
    "                                                           inception_df['vector'][row['file_name']]), axis=1)\n",
    "  \n",
    "    X = df[\"concat_vectors\"]\n",
    "    X\n",
    "\n",
    "    from sklearn.neural_network import MLPClassifier\n",
    "    X = df[\"concat_vectors\"].tolist()\n",
    "    y = df[\"category\"].tolist()\n",
    "    clf = MLPClassifier(solver='lbfgs', alpha=1e-5,\n",
    "                        hidden_layer_sizes=(5, 2), random_state=1)\n",
    "    clf.fit(X, y)                         \n",
    "    MLPClassifier(activation='relu', alpha=1e-05, batch_size='auto',\n",
    "           beta_1=0.9, beta_2=0.999, early_stopping=False,\n",
    "           epsilon=1e-08, hidden_layer_sizes=(5, 2), learning_rate='constant',\n",
    "           learning_rate_init=0.001, max_iter=200, momentum=0.9,\n",
    "           nesterovs_momentum=True, power_t=0.5, random_state=1, shuffle=True,\n",
    "           solver='lbfgs', tol=0.0001, validation_fraction=0.1, verbose=False,\n",
    "           warm_start=False)\n",
    "\n",
    "    df.loc[df['img_id'] == 125850].concat_vectors\n",
    "    print(clf.predict(df.loc[df['img_id'] == 125850].concat_vectors.tolist())[0])"
   ]
  },
  {
   "cell_type": "code",
   "execution_count": null,
   "metadata": {},
   "outputs": [],
   "source": [
    "doc2vec_inception_class()\n",
    "word2vec_inception_class()\n",
    "word2vec_doc2vec_class()\n",
    "word2vec_doc2vec_inception_class()\n"
   ]
  }
 ],
 "metadata": {
  "kernelspec": {
   "display_name": "Python 3",
   "language": "python",
   "name": "python3"
  },
  "language_info": {
   "codemirror_mode": {
    "name": "ipython",
    "version": 3
   },
   "file_extension": ".py",
   "mimetype": "text/x-python",
   "name": "python",
   "nbconvert_exporter": "python",
   "pygments_lexer": "ipython3",
   "version": "3.6.5"
  }
 },
 "nbformat": 4,
 "nbformat_minor": 2
}
