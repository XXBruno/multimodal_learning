{
 "cells": [
  {
   "cell_type": "code",
   "execution_count": 1,
   "metadata": {
    "scrolled": true
   },
   "outputs": [
    {
     "data": {
      "text/html": [
       "<div>\n",
       "<style scoped>\n",
       "    .dataframe tbody tr th:only-of-type {\n",
       "        vertical-align: middle;\n",
       "    }\n",
       "\n",
       "    .dataframe tbody tr th {\n",
       "        vertical-align: top;\n",
       "    }\n",
       "\n",
       "    .dataframe thead th {\n",
       "        text-align: right;\n",
       "    }\n",
       "</style>\n",
       "<table border=\"1\" class=\"dataframe\">\n",
       "  <thead>\n",
       "    <tr style=\"text-align: right;\">\n",
       "      <th></th>\n",
       "      <th>all_categories</th>\n",
       "      <th>captions</th>\n",
       "      <th>category</th>\n",
       "      <th>file_name</th>\n",
       "      <th>img_id</th>\n",
       "    </tr>\n",
       "  </thead>\n",
       "  <tbody>\n",
       "    <tr>\n",
       "      <th>0</th>\n",
       "      <td>[tennis racket, person, person, person, person...</td>\n",
       "      <td>[A tennis player with his leg up in the air an...</td>\n",
       "      <td>tennis racket</td>\n",
       "      <td>000000121744.jpg</td>\n",
       "      <td>121744</td>\n",
       "    </tr>\n",
       "    <tr>\n",
       "      <th>1</th>\n",
       "      <td>[person, skis]</td>\n",
       "      <td>[A woman slashing down a snowy hill on skis., ...</td>\n",
       "      <td>skis</td>\n",
       "      <td>000000493442.jpg</td>\n",
       "      <td>493442</td>\n",
       "    </tr>\n",
       "    <tr>\n",
       "      <th>2</th>\n",
       "      <td>[person, person, tennis racket]</td>\n",
       "      <td>[A man standing on a tennis court holding a ra...</td>\n",
       "      <td>tennis racket</td>\n",
       "      <td>000000289059.jpg</td>\n",
       "      <td>289059</td>\n",
       "    </tr>\n",
       "    <tr>\n",
       "      <th>3</th>\n",
       "      <td>[giraffe, giraffe]</td>\n",
       "      <td>[Pair of giraffes walking on grassy area in en...</td>\n",
       "      <td>giraffe</td>\n",
       "      <td>000000150726.jpg</td>\n",
       "      <td>150726</td>\n",
       "    </tr>\n",
       "    <tr>\n",
       "      <th>4</th>\n",
       "      <td>[clock]</td>\n",
       "      <td>[A very tall church with a clock below a tower...</td>\n",
       "      <td>clock</td>\n",
       "      <td>000000246522.jpg</td>\n",
       "      <td>246522</td>\n",
       "    </tr>\n",
       "  </tbody>\n",
       "</table>\n",
       "</div>"
      ],
      "text/plain": [
       "                                      all_categories  \\\n",
       "0  [tennis racket, person, person, person, person...   \n",
       "1                                     [person, skis]   \n",
       "2                    [person, person, tennis racket]   \n",
       "3                                 [giraffe, giraffe]   \n",
       "4                                            [clock]   \n",
       "\n",
       "                                            captions       category  \\\n",
       "0  [A tennis player with his leg up in the air an...  tennis racket   \n",
       "1  [A woman slashing down a snowy hill on skis., ...           skis   \n",
       "2  [A man standing on a tennis court holding a ra...  tennis racket   \n",
       "3  [Pair of giraffes walking on grassy area in en...        giraffe   \n",
       "4  [A very tall church with a clock below a tower...          clock   \n",
       "\n",
       "          file_name  img_id  \n",
       "0  000000121744.jpg  121744  \n",
       "1  000000493442.jpg  493442  \n",
       "2  000000289059.jpg  289059  \n",
       "3  000000150726.jpg  150726  \n",
       "4  000000246522.jpg  246522  "
      ]
     },
     "execution_count": 1,
     "metadata": {},
     "output_type": "execute_result"
    }
   ],
   "source": [
    "import pandas as pd\n",
    "df = pd.read_json(\"data/COCO/coco-easier.txt\", \n",
    "                  lines=True)\n",
    "df = df.sample(frac=1).reset_index(drop=True)\n",
    "df[:5]\n",
    "\n"
   ]
  },
  {
   "cell_type": "code",
   "execution_count": 2,
   "metadata": {},
   "outputs": [
    {
     "data": {
      "text/html": [
       "<div>\n",
       "<style scoped>\n",
       "    .dataframe tbody tr th:only-of-type {\n",
       "        vertical-align: middle;\n",
       "    }\n",
       "\n",
       "    .dataframe tbody tr th {\n",
       "        vertical-align: top;\n",
       "    }\n",
       "\n",
       "    .dataframe thead th {\n",
       "        text-align: right;\n",
       "    }\n",
       "</style>\n",
       "<table border=\"1\" class=\"dataframe\">\n",
       "  <thead>\n",
       "    <tr style=\"text-align: right;\">\n",
       "      <th></th>\n",
       "      <th>vector</th>\n",
       "    </tr>\n",
       "    <tr>\n",
       "      <th>image</th>\n",
       "      <th></th>\n",
       "    </tr>\n",
       "  </thead>\n",
       "  <tbody>\n",
       "    <tr>\n",
       "      <th>000000173830.jpg</th>\n",
       "      <td>[0.27057743072509705, 0.11477771401405301, 0.0...</td>\n",
       "    </tr>\n",
       "    <tr>\n",
       "      <th>000000570664.jpg</th>\n",
       "      <td>[0.252127289772033, 0.434070438146591, 0.22712...</td>\n",
       "    </tr>\n",
       "    <tr>\n",
       "      <th>000000304396.jpg</th>\n",
       "      <td>[0.24179434776306102, 0.08653920888900701, 0.1...</td>\n",
       "    </tr>\n",
       "    <tr>\n",
       "      <th>000000441491.jpg</th>\n",
       "      <td>[0.11056154966354301, 0.08768206834793, 0.0857...</td>\n",
       "    </tr>\n",
       "    <tr>\n",
       "      <th>000000289059.jpg</th>\n",
       "      <td>[0.23210205137729603, 0.1578049659729, 0.27599...</td>\n",
       "    </tr>\n",
       "  </tbody>\n",
       "</table>\n",
       "</div>"
      ],
      "text/plain": [
       "                                                             vector\n",
       "image                                                              \n",
       "000000173830.jpg  [0.27057743072509705, 0.11477771401405301, 0.0...\n",
       "000000570664.jpg  [0.252127289772033, 0.434070438146591, 0.22712...\n",
       "000000304396.jpg  [0.24179434776306102, 0.08653920888900701, 0.1...\n",
       "000000441491.jpg  [0.11056154966354301, 0.08768206834793, 0.0857...\n",
       "000000289059.jpg  [0.23210205137729603, 0.1578049659729, 0.27599..."
      ]
     },
     "execution_count": 2,
     "metadata": {},
     "output_type": "execute_result"
    }
   ],
   "source": [
    "inception_df = pd.read_json(\"data/inception_output.txt\", lines=True)\n",
    "inception_df.set_index('image',inplace=True)\n",
    "inception_df[:5]"
   ]
  },
  {
   "cell_type": "code",
   "execution_count": 3,
   "metadata": {},
   "outputs": [],
   "source": [
    "import numpy as np\n",
    "\n",
    "def concatenate(vector1, vector2):\n",
    "    a = np.array(vector1)\n",
    "    b = np.array(vector2)\n",
    "    return np.concatenate((a, b))"
   ]
  },
  {
   "cell_type": "code",
   "execution_count": 4,
   "metadata": {},
   "outputs": [
    {
     "name": "stderr",
     "output_type": "stream",
     "text": [
      "2018-05-26 19:21:43,726 : INFO : collecting all words and their counts\n",
      "2018-05-26 19:21:43,728 : INFO : PROGRESS: at example #0, processed 0 words (0/s), 0 word types, 0 tags\n",
      "2018-05-26 19:21:43,763 : INFO : collected 3702 word types and 10 unique tags from a corpus of 1503 examples and 65463 words\n",
      "2018-05-26 19:21:43,764 : INFO : Loading a fresh vocabulary\n",
      "2018-05-26 19:21:43,779 : INFO : min_count=5 retains 1058 unique words (28% of original 3702, drops 2644)\n",
      "2018-05-26 19:21:43,783 : INFO : min_count=5 leaves 61217 word corpus (93% of original 65463, drops 4246)\n",
      "2018-05-26 19:21:43,793 : INFO : deleting the raw counts dictionary of 3702 items\n",
      "2018-05-26 19:21:43,799 : INFO : sample=0.001 downsamples 71 most-common words\n",
      "2018-05-26 19:21:43,802 : INFO : downsampling leaves estimated 39737 word corpus (64.9% of prior 61217)\n",
      "2018-05-26 19:21:43,814 : INFO : estimated required memory for 1058 words and 400 dimensions: 3932600 bytes\n",
      "2018-05-26 19:21:43,816 : INFO : resetting layer weights\n",
      "2018-05-26 19:21:43,877 : INFO : training model with 1 workers on 1058 vocabulary and 400 features, using sg=1 hs=0 sample=0.001 negative=12 window=8\n",
      "2018-05-26 19:21:44,119 : INFO : worker thread finished; awaiting finish of 0 more threads\n",
      "2018-05-26 19:21:44,120 : INFO : EPOCH - 1 : training on 65463 raw words (41232 effective words) took 0.2s, 176852 effective words/s\n",
      "2018-05-26 19:21:44,347 : INFO : worker thread finished; awaiting finish of 0 more threads\n",
      "2018-05-26 19:21:44,348 : INFO : EPOCH - 2 : training on 65463 raw words (41111 effective words) took 0.2s, 182865 effective words/s\n",
      "2018-05-26 19:21:44,576 : INFO : worker thread finished; awaiting finish of 0 more threads\n",
      "2018-05-26 19:21:44,576 : INFO : EPOCH - 3 : training on 65463 raw words (41258 effective words) took 0.2s, 182758 effective words/s\n",
      "2018-05-26 19:21:44,794 : INFO : worker thread finished; awaiting finish of 0 more threads\n",
      "2018-05-26 19:21:44,795 : INFO : EPOCH - 4 : training on 65463 raw words (41138 effective words) took 0.2s, 190900 effective words/s\n",
      "2018-05-26 19:21:45,021 : INFO : worker thread finished; awaiting finish of 0 more threads\n",
      "2018-05-26 19:21:45,022 : INFO : EPOCH - 5 : training on 65463 raw words (41386 effective words) took 0.2s, 184583 effective words/s\n",
      "2018-05-26 19:21:45,391 : INFO : worker thread finished; awaiting finish of 0 more threads\n",
      "2018-05-26 19:21:45,392 : INFO : EPOCH - 6 : training on 65463 raw words (41225 effective words) took 0.4s, 112539 effective words/s\n",
      "2018-05-26 19:21:45,663 : INFO : worker thread finished; awaiting finish of 0 more threads\n",
      "2018-05-26 19:21:45,664 : INFO : EPOCH - 7 : training on 65463 raw words (41396 effective words) took 0.3s, 153397 effective words/s\n",
      "2018-05-26 19:21:45,889 : INFO : worker thread finished; awaiting finish of 0 more threads\n",
      "2018-05-26 19:21:45,890 : INFO : EPOCH - 8 : training on 65463 raw words (41267 effective words) took 0.2s, 185651 effective words/s\n",
      "2018-05-26 19:21:46,114 : INFO : worker thread finished; awaiting finish of 0 more threads\n",
      "2018-05-26 19:21:46,114 : INFO : EPOCH - 9 : training on 65463 raw words (41227 effective words) took 0.2s, 186185 effective words/s\n",
      "2018-05-26 19:21:46,336 : INFO : worker thread finished; awaiting finish of 0 more threads\n",
      "2018-05-26 19:21:46,337 : INFO : EPOCH - 10 : training on 65463 raw words (41149 effective words) took 0.2s, 187072 effective words/s\n",
      "2018-05-26 19:21:46,338 : INFO : training on a 654630 raw words (412389 effective words) took 2.5s, 167868 effective words/s\n"
     ]
    },
    {
     "data": {
      "text/html": [
       "<div>\n",
       "<style scoped>\n",
       "    .dataframe tbody tr th:only-of-type {\n",
       "        vertical-align: middle;\n",
       "    }\n",
       "\n",
       "    .dataframe tbody tr th {\n",
       "        vertical-align: top;\n",
       "    }\n",
       "\n",
       "    .dataframe thead th {\n",
       "        text-align: right;\n",
       "    }\n",
       "</style>\n",
       "<table border=\"1\" class=\"dataframe\">\n",
       "  <thead>\n",
       "    <tr style=\"text-align: right;\">\n",
       "      <th></th>\n",
       "      <th>all_categories</th>\n",
       "      <th>captions</th>\n",
       "      <th>category</th>\n",
       "      <th>file_name</th>\n",
       "      <th>img_id</th>\n",
       "      <th>concat_vectors</th>\n",
       "    </tr>\n",
       "  </thead>\n",
       "  <tbody>\n",
       "    <tr>\n",
       "      <th>0</th>\n",
       "      <td>[tennis racket, person, person, person, person...</td>\n",
       "      <td>[A tennis player with his leg up in the air an...</td>\n",
       "      <td>tennis racket</td>\n",
       "      <td>000000121744.jpg</td>\n",
       "      <td>121744</td>\n",
       "      <td>[0.124936044216, 0.0830611288548, 0.1788370609...</td>\n",
       "    </tr>\n",
       "    <tr>\n",
       "      <th>1</th>\n",
       "      <td>[person, skis]</td>\n",
       "      <td>[A woman slashing down a snowy hill on skis., ...</td>\n",
       "      <td>skis</td>\n",
       "      <td>000000493442.jpg</td>\n",
       "      <td>493442</td>\n",
       "      <td>[0.199409678578, 0.0874392613769, 0.1511009037...</td>\n",
       "    </tr>\n",
       "    <tr>\n",
       "      <th>2</th>\n",
       "      <td>[person, person, tennis racket]</td>\n",
       "      <td>[A man standing on a tennis court holding a ra...</td>\n",
       "      <td>tennis racket</td>\n",
       "      <td>000000289059.jpg</td>\n",
       "      <td>289059</td>\n",
       "      <td>[0.123697988689, 0.0936013758183, 0.1886771917...</td>\n",
       "    </tr>\n",
       "    <tr>\n",
       "      <th>3</th>\n",
       "      <td>[giraffe, giraffe]</td>\n",
       "      <td>[Pair of giraffes walking on grassy area in en...</td>\n",
       "      <td>giraffe</td>\n",
       "      <td>000000150726.jpg</td>\n",
       "      <td>150726</td>\n",
       "      <td>[-0.0723032057285, 0.220078751445, -0.02437694...</td>\n",
       "    </tr>\n",
       "    <tr>\n",
       "      <th>4</th>\n",
       "      <td>[clock]</td>\n",
       "      <td>[A very tall church with a clock below a tower...</td>\n",
       "      <td>clock</td>\n",
       "      <td>000000246522.jpg</td>\n",
       "      <td>246522</td>\n",
       "      <td>[-0.147770911455, -0.00727563071996, -0.031896...</td>\n",
       "    </tr>\n",
       "  </tbody>\n",
       "</table>\n",
       "</div>"
      ],
      "text/plain": [
       "                                      all_categories  \\\n",
       "0  [tennis racket, person, person, person, person...   \n",
       "1                                     [person, skis]   \n",
       "2                    [person, person, tennis racket]   \n",
       "3                                 [giraffe, giraffe]   \n",
       "4                                            [clock]   \n",
       "\n",
       "                                            captions       category  \\\n",
       "0  [A tennis player with his leg up in the air an...  tennis racket   \n",
       "1  [A woman slashing down a snowy hill on skis., ...           skis   \n",
       "2  [A man standing on a tennis court holding a ra...  tennis racket   \n",
       "3  [Pair of giraffes walking on grassy area in en...        giraffe   \n",
       "4  [A very tall church with a clock below a tower...          clock   \n",
       "\n",
       "          file_name  img_id                                     concat_vectors  \n",
       "0  000000121744.jpg  121744  [0.124936044216, 0.0830611288548, 0.1788370609...  \n",
       "1  000000493442.jpg  493442  [0.199409678578, 0.0874392613769, 0.1511009037...  \n",
       "2  000000289059.jpg  289059  [0.123697988689, 0.0936013758183, 0.1886771917...  \n",
       "3  000000150726.jpg  150726  [-0.0723032057285, 0.220078751445, -0.02437694...  \n",
       "4  000000246522.jpg  246522  [-0.147770911455, -0.00727563071996, -0.031896...  "
      ]
     },
     "execution_count": 4,
     "metadata": {},
     "output_type": "execute_result"
    }
   ],
   "source": [
    "import doc2vec_wrapped\n",
    "doc2vec_vectors_series = doc2vec_wrapped.vectorize_content()\n",
    "df[\"concat_vectors\"] = df.apply(lambda row: concatenate(doc2vec_vectors_series[row['file_name']],\n",
    "                                                       inception_df['vector'][row['file_name']]), axis=1)\n",
    "df[:5]"
   ]
  },
  {
   "cell_type": "code",
   "execution_count": 6,
   "metadata": {},
   "outputs": [
    {
     "data": {
      "text/plain": [
       "0       [0.124936044216, 0.0830611288548, 0.1788370609...\n",
       "1       [0.199409678578, 0.0874392613769, 0.1511009037...\n",
       "2       [0.123697988689, 0.0936013758183, 0.1886771917...\n",
       "3       [-0.0723032057285, 0.220078751445, -0.02437694...\n",
       "4       [-0.147770911455, -0.00727563071996, -0.031896...\n",
       "5       [-0.0625411197543, 0.0762711539865, -0.0753941...\n",
       "6       [0.11179869622, 0.0716297030449, 0.17761084437...\n",
       "7       [-0.194728344679, 0.0565872378647, 0.016416905...\n",
       "8       [0.133189931512, 0.073773086071, 0.19709981977...\n",
       "9       [-0.0710869282484, 0.278602838516, 0.044715769...\n",
       "10      [-0.101948015392, 0.221950888634, 0.0250145085...\n",
       "11      [0.18584549427, 0.115170404315, 0.116634897888...\n",
       "12      [-0.0583600029349, 0.168031319976, 0.090615339...\n",
       "13      [0.0681081414223, 0.0443238914013, 0.198572471...\n",
       "14      [-0.121055424213, 0.080839715898, 0.0839423760...\n",
       "15      [0.104296788573, 0.201710626483, 0.07316695898...\n",
       "16      [0.140348821878, 0.229719787836, 0.09589786082...\n",
       "17      [-0.101216882467, -0.0709369629622, -0.0862004...\n",
       "18      [-0.135050281882, 0.17387033999, 0.02243321388...\n",
       "19      [-0.133287623525, 0.0749432742596, 0.019908806...\n",
       "20      [-0.0799502357841, 0.235375761986, 0.114985592...\n",
       "21      [-0.0229596421123, 0.191281542182, -0.06914587...\n",
       "22      [-0.0692238360643, 0.026548538357, 0.141374796...\n",
       "23      [-0.0670786574483, 0.176635578275, 0.020193636...\n",
       "24      [-0.0472246073186, 0.193374887109, 0.105066314...\n",
       "25      [-0.0996993109584, 0.0195430833846, 0.12525087...\n",
       "26      [0.0856013894081, 0.156601041555, 0.1404199004...\n",
       "27      [-0.0506814531982, 0.161687493324, 0.026345556...\n",
       "28      [-0.1222204566, 0.0750290304422, 0.12277732044...\n",
       "29      [-0.0605920851231, 0.246225178242, 0.014221671...\n",
       "                              ...                        \n",
       "1473    [0.027491023764, 0.161488369107, 0.01771982945...\n",
       "1474    [-0.00321326311678, 0.191729307175, 0.10492384...\n",
       "1475    [-0.153223320842, 0.14698150754, 0.00520835770...\n",
       "1476    [-0.0410759299994, 0.0969228073955, -0.0102786...\n",
       "1477    [0.00976086873561, 0.241365745664, 0.063230603...\n",
       "1478    [0.193279638886, 0.12840911746, 0.176500976086...\n",
       "1479    [-0.094868645072, 0.148965656757, -0.073944389...\n",
       "1480    [0.109507992864, 0.105696432292, 0.18927235901...\n",
       "1481    [-0.0958019122481, 0.118174791336, -0.05040669...\n",
       "1482    [-0.0444961562753, 0.155557349324, -0.16350033...\n",
       "1483    [-0.0680236443877, 0.0971211120486, 0.07938893...\n",
       "1484    [-0.0397270396352, 0.141886711121, -0.06651436...\n",
       "1485    [-0.202850729227, 0.0304030291736, -0.01889541...\n",
       "1486    [-0.0871845632792, 0.0360439606011, -0.0437302...\n",
       "1487    [0.129291400313, 0.179622933269, 0.07275024801...\n",
       "1488    [0.207122206688, 0.0960600152612, 0.1656648367...\n",
       "1489    [-0.125625118613, 0.0250901505351, -0.03348728...\n",
       "1490    [-0.10879624635, 0.0560458377004, 0.2202100008...\n",
       "1491    [-0.0587676465511, 0.0333968624473, 0.15715697...\n",
       "1492    [0.0798604488373, 0.183113321662, 0.0224658660...\n",
       "1493    [-0.0295457374305, 0.226769983768, 0.098378665...\n",
       "1494    [-0.115934282541, 0.150621637702, 0.0999441891...\n",
       "1495    [-0.098564401269, 0.035660199821, -0.076847918...\n",
       "1496    [-0.126718744636, 0.0319897979498, -0.07878953...\n",
       "1497    [0.11746108532, 0.0972202941775, 0.23025128245...\n",
       "1498    [-0.0270624328405, 0.270434707403, 0.109522014...\n",
       "1499    [0.0470164008439, 0.291410803795, 0.1651349663...\n",
       "1500    [-0.0347520336509, 0.222462162375, -0.04378923...\n",
       "1501    [-0.0184619072825, 0.139031857252, -0.01325794...\n",
       "1502    [-0.0359478965402, 0.257063269615, 0.141643941...\n",
       "Name: concat_vectors, Length: 1503, dtype: object"
      ]
     },
     "execution_count": 6,
     "metadata": {},
     "output_type": "execute_result"
    }
   ],
   "source": [
    "X = df[\"concat_vectors\"]\n",
    "X"
   ]
  },
  {
   "cell_type": "code",
   "execution_count": 10,
   "metadata": {},
   "outputs": [
    {
     "data": {
      "text/plain": [
       "MLPClassifier(activation='relu', alpha=1e-05, batch_size='auto', beta_1=0.9,\n",
       "       beta_2=0.999, early_stopping=False, epsilon=1e-08,\n",
       "       hidden_layer_sizes=(5, 2), learning_rate='constant',\n",
       "       learning_rate_init=0.001, max_iter=200, momentum=0.9,\n",
       "       nesterovs_momentum=True, power_t=0.5, random_state=1, shuffle=True,\n",
       "       solver='lbfgs', tol=0.0001, validation_fraction=0.1, verbose=False,\n",
       "       warm_start=False)"
      ]
     },
     "execution_count": 10,
     "metadata": {},
     "output_type": "execute_result"
    }
   ],
   "source": [
    "from sklearn.neural_network import MLPClassifier\n",
    "X = df[\"concat_vectors\"].tolist()\n",
    "y = df[\"category\"].tolist()\n",
    "clf = MLPClassifier(solver='lbfgs', alpha=1e-5,\n",
    "                    hidden_layer_sizes=(5, 2), random_state=1)\n",
    "clf.fit(X, y)                         \n",
    "MLPClassifier(activation='relu', alpha=1e-05, batch_size='auto',\n",
    "       beta_1=0.9, beta_2=0.999, early_stopping=False,\n",
    "       epsilon=1e-08, hidden_layer_sizes=(5, 2), learning_rate='constant',\n",
    "       learning_rate_init=0.001, max_iter=200, momentum=0.9,\n",
    "       nesterovs_momentum=True, power_t=0.5, random_state=1, shuffle=True,\n",
    "       solver='lbfgs', tol=0.0001, validation_fraction=0.1, verbose=False,\n",
    "       warm_start=False)\n",
    "\n"
   ]
  },
  {
   "cell_type": "code",
   "execution_count": 12,
   "metadata": {},
   "outputs": [
    {
     "data": {
      "text/plain": [
       "809    [-0.115660868585, 0.103114269674, -0.026257732...\n",
       "Name: concat_vectors, dtype: object"
      ]
     },
     "execution_count": 12,
     "metadata": {},
     "output_type": "execute_result"
    }
   ],
   "source": [
    "df.loc[df['img_id'] == 125850].concat_vectors"
   ]
  },
  {
   "cell_type": "code",
   "execution_count": 16,
   "metadata": {},
   "outputs": [
    {
     "data": {
      "text/plain": [
       "'traffic light'"
      ]
     },
     "execution_count": 16,
     "metadata": {},
     "output_type": "execute_result"
    }
   ],
   "source": [
    "clf.predict(df.loc[df['img_id'] == 125850].concat_vectors.tolist())[0]"
   ]
  },
  {
   "cell_type": "code",
   "execution_count": null,
   "metadata": {},
   "outputs": [],
   "source": []
  }
 ],
 "metadata": {
  "kernelspec": {
   "display_name": "Python [default]",
   "language": "python",
   "name": "python3"
  },
  "language_info": {
   "codemirror_mode": {
    "name": "ipython",
    "version": 3
   },
   "file_extension": ".py",
   "mimetype": "text/x-python",
   "name": "python",
   "nbconvert_exporter": "python",
   "pygments_lexer": "ipython3",
   "version": "3.6.5"
  }
 },
 "nbformat": 4,
 "nbformat_minor": 2
}
