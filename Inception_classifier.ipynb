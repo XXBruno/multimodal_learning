{
 "cells": [
  {
   "cell_type": "code",
   "execution_count": 1,
   "metadata": {},
   "outputs": [],
   "source": [
    "import pandas as pd\n",
    "import numpy as np\n",
    "from sklearn.model_selection import cross_val_score\n",
    "\n",
    "def cross_val_accuracy(classifier, df):\n",
    "    # Returns the mean accuracy on the given test data and labels, in 5 cross validation splits\n",
    "    scores = cross_val_score(classifier, \n",
    "                             pd.DataFrame(df[\"concat_vectors\"].tolist()), \n",
    "                             df[\"category\"].values, \n",
    "                             cv=5)\n",
    "    print(\"Accuracy: %0.2f (+/- %0.2f)\" % (scores.mean(), scores.std() * 2))"
   ]
  },
  {
   "cell_type": "code",
   "execution_count": 2,
   "metadata": {},
   "outputs": [],
   "source": [
    "def inception_class():\n",
    "    inception_df = pd.read_json(\"data/inception_output.txt\", lines=True)\n",
    "    inception_df.set_index('image',inplace=True)\n",
    "    \n",
    "    df = pd.read_json(\"data/COCO/coco-easier.txt\", \n",
    "                  lines=True)\n",
    "    df = df.sample(frac=1).reset_index(drop=True)\n",
    "    df[\"concat_vectors\"] = np.array(inception_df[\"vector\"])\n",
    "    X = df[\"concat_vectors\"]\n",
    "    \n",
    "\n",
    "    from sklearn.neural_network import MLPClassifier\n",
    "    X = df[\"concat_vectors\"].tolist()\n",
    "    y = df[\"category\"].tolist()\n",
    "    clf = MLPClassifier(solver='lbfgs', alpha=1e-5,\n",
    "                        hidden_layer_sizes=(20, 20), random_state=1)\n",
    "    clf.fit(X, y)                         \n",
    "    MLPClassifier(activation='relu', alpha=1e-05, batch_size='auto',\n",
    "           beta_1=0.9, beta_2=0.999, early_stopping=False,\n",
    "           epsilon=1e-08, hidden_layer_sizes=(20, 20), learning_rate='constant',\n",
    "           learning_rate_init=0.001, max_iter=200, momentum=0.9,\n",
    "           nesterovs_momentum=True, power_t=0.5, random_state=1, shuffle=True,\n",
    "           solver='lbfgs', tol=0.0001, validation_fraction=0.1, verbose=False,\n",
    "           warm_start=False)\n",
    "    print(\"inception_cropped\")\n",
    "    cross_val_accuracy(clf, df)"
   ]
  },
  {
   "cell_type": "code",
   "execution_count": 3,
   "metadata": {},
   "outputs": [
    {
     "name": "stdout",
     "output_type": "stream",
     "text": [
      "inception_cropped\n",
      "Accuracy: 0.10 (+/- 0.03)\n"
     ]
    }
   ],
   "source": [
    "inception_class()"
   ]
  }
 ],
 "metadata": {
  "kernelspec": {
   "display_name": "Python 3",
   "language": "python",
   "name": "python3"
  },
  "language_info": {
   "codemirror_mode": {
    "name": "ipython",
    "version": 3
   },
   "file_extension": ".py",
   "mimetype": "text/x-python",
   "name": "python",
   "nbconvert_exporter": "python",
   "pygments_lexer": "ipython3",
   "version": "3.6.5"
  }
 },
 "nbformat": 4,
 "nbformat_minor": 2
}
